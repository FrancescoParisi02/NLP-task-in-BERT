{
  "cells": [
    {
      "cell_type": "markdown",
      "metadata": {
        "id": "view-in-github",
        "colab_type": "text"
      },
      "source": [
        "<a href=\"https://colab.research.google.com/github/FrancescoParisi02/NLP-task-in-BERT/blob/main/BERT2_etl.ipynb\" target=\"_parent\"><img src=\"https://colab.research.google.com/assets/colab-badge.svg\" alt=\"Open In Colab\"/></a>"
      ]
    },
    {
      "cell_type": "code",
      "execution_count": null,
      "id": "c8b2276284bf1716",
      "metadata": {
        "colab": {
          "base_uri": "https://localhost:8080/"
        },
        "id": "c8b2276284bf1716",
        "outputId": "e0e470bf-92df-4ce7-9938-d8a013c0891d"
      },
      "outputs": [
        {
          "output_type": "stream",
          "name": "stdout",
          "text": [
            "Requirement already satisfied: kagglehub in /usr/local/lib/python3.10/dist-packages (0.3.6)\n",
            "Requirement already satisfied: packaging in /usr/local/lib/python3.10/dist-packages (from kagglehub) (24.2)\n",
            "Requirement already satisfied: requests in /usr/local/lib/python3.10/dist-packages (from kagglehub) (2.32.3)\n",
            "Requirement already satisfied: tqdm in /usr/local/lib/python3.10/dist-packages (from kagglehub) (4.67.1)\n",
            "Requirement already satisfied: charset-normalizer<4,>=2 in /usr/local/lib/python3.10/dist-packages (from requests->kagglehub) (3.4.1)\n",
            "Requirement already satisfied: idna<4,>=2.5 in /usr/local/lib/python3.10/dist-packages (from requests->kagglehub) (3.10)\n",
            "Requirement already satisfied: urllib3<3,>=1.21.1 in /usr/local/lib/python3.10/dist-packages (from requests->kagglehub) (2.3.0)\n",
            "Requirement already satisfied: certifi>=2017.4.17 in /usr/local/lib/python3.10/dist-packages (from requests->kagglehub) (2024.12.14)\n",
            "Requirement already satisfied: pandas in /usr/local/lib/python3.10/dist-packages (2.2.2)\n",
            "Requirement already satisfied: numpy>=1.22.4 in /usr/local/lib/python3.10/dist-packages (from pandas) (1.26.4)\n",
            "Requirement already satisfied: python-dateutil>=2.8.2 in /usr/local/lib/python3.10/dist-packages (from pandas) (2.8.2)\n",
            "Requirement already satisfied: pytz>=2020.1 in /usr/local/lib/python3.10/dist-packages (from pandas) (2024.2)\n",
            "Requirement already satisfied: tzdata>=2022.7 in /usr/local/lib/python3.10/dist-packages (from pandas) (2024.2)\n",
            "Requirement already satisfied: six>=1.5 in /usr/local/lib/python3.10/dist-packages (from python-dateutil>=2.8.2->pandas) (1.17.0)\n",
            "Requirement already satisfied: nltk in /usr/local/lib/python3.10/dist-packages (3.9.1)\n",
            "Requirement already satisfied: click in /usr/local/lib/python3.10/dist-packages (from nltk) (8.1.8)\n",
            "Requirement already satisfied: joblib in /usr/local/lib/python3.10/dist-packages (from nltk) (1.4.2)\n",
            "Requirement already satisfied: regex>=2021.8.3 in /usr/local/lib/python3.10/dist-packages (from nltk) (2024.11.6)\n",
            "Requirement already satisfied: tqdm in /usr/local/lib/python3.10/dist-packages (from nltk) (4.67.1)\n",
            "Requirement already satisfied: scikit-learn in /usr/local/lib/python3.10/dist-packages (1.6.0)\n",
            "Requirement already satisfied: numpy>=1.19.5 in /usr/local/lib/python3.10/dist-packages (from scikit-learn) (1.26.4)\n",
            "Requirement already satisfied: scipy>=1.6.0 in /usr/local/lib/python3.10/dist-packages (from scikit-learn) (1.13.1)\n",
            "Requirement already satisfied: joblib>=1.2.0 in /usr/local/lib/python3.10/dist-packages (from scikit-learn) (1.4.2)\n",
            "Requirement already satisfied: threadpoolctl>=3.1.0 in /usr/local/lib/python3.10/dist-packages (from scikit-learn) (3.5.0)\n",
            "Requirement already satisfied: transformers in /usr/local/lib/python3.10/dist-packages (4.47.1)\n",
            "Requirement already satisfied: filelock in /usr/local/lib/python3.10/dist-packages (from transformers) (3.16.1)\n",
            "Requirement already satisfied: huggingface-hub<1.0,>=0.24.0 in /usr/local/lib/python3.10/dist-packages (from transformers) (0.27.1)\n",
            "Requirement already satisfied: numpy>=1.17 in /usr/local/lib/python3.10/dist-packages (from transformers) (1.26.4)\n",
            "Requirement already satisfied: packaging>=20.0 in /usr/local/lib/python3.10/dist-packages (from transformers) (24.2)\n",
            "Requirement already satisfied: pyyaml>=5.1 in /usr/local/lib/python3.10/dist-packages (from transformers) (6.0.2)\n",
            "Requirement already satisfied: regex!=2019.12.17 in /usr/local/lib/python3.10/dist-packages (from transformers) (2024.11.6)\n",
            "Requirement already satisfied: requests in /usr/local/lib/python3.10/dist-packages (from transformers) (2.32.3)\n",
            "Requirement already satisfied: tokenizers<0.22,>=0.21 in /usr/local/lib/python3.10/dist-packages (from transformers) (0.21.0)\n",
            "Requirement already satisfied: safetensors>=0.4.1 in /usr/local/lib/python3.10/dist-packages (from transformers) (0.5.0)\n",
            "Requirement already satisfied: tqdm>=4.27 in /usr/local/lib/python3.10/dist-packages (from transformers) (4.67.1)\n",
            "Requirement already satisfied: fsspec>=2023.5.0 in /usr/local/lib/python3.10/dist-packages (from huggingface-hub<1.0,>=0.24.0->transformers) (2024.10.0)\n",
            "Requirement already satisfied: typing-extensions>=3.7.4.3 in /usr/local/lib/python3.10/dist-packages (from huggingface-hub<1.0,>=0.24.0->transformers) (4.12.2)\n",
            "Requirement already satisfied: charset-normalizer<4,>=2 in /usr/local/lib/python3.10/dist-packages (from requests->transformers) (3.4.1)\n",
            "Requirement already satisfied: idna<4,>=2.5 in /usr/local/lib/python3.10/dist-packages (from requests->transformers) (3.10)\n",
            "Requirement already satisfied: urllib3<3,>=1.21.1 in /usr/local/lib/python3.10/dist-packages (from requests->transformers) (2.3.0)\n",
            "Requirement already satisfied: certifi>=2017.4.17 in /usr/local/lib/python3.10/dist-packages (from requests->transformers) (2024.12.14)\n",
            "Requirement already satisfied: torch in /usr/local/lib/python3.10/dist-packages (2.5.1+cu121)\n",
            "Requirement already satisfied: filelock in /usr/local/lib/python3.10/dist-packages (from torch) (3.16.1)\n",
            "Requirement already satisfied: typing-extensions>=4.8.0 in /usr/local/lib/python3.10/dist-packages (from torch) (4.12.2)\n",
            "Requirement already satisfied: networkx in /usr/local/lib/python3.10/dist-packages (from torch) (3.4.2)\n",
            "Requirement already satisfied: jinja2 in /usr/local/lib/python3.10/dist-packages (from torch) (3.1.5)\n",
            "Requirement already satisfied: fsspec in /usr/local/lib/python3.10/dist-packages (from torch) (2024.10.0)\n",
            "Requirement already satisfied: sympy==1.13.1 in /usr/local/lib/python3.10/dist-packages (from torch) (1.13.1)\n",
            "Requirement already satisfied: mpmath<1.4,>=1.1.0 in /usr/local/lib/python3.10/dist-packages (from sympy==1.13.1->torch) (1.3.0)\n",
            "Requirement already satisfied: MarkupSafe>=2.0 in /usr/local/lib/python3.10/dist-packages (from jinja2->torch) (3.0.2)\n",
            "Requirement already satisfied: seaborn in /usr/local/lib/python3.10/dist-packages (0.13.2)\n",
            "Requirement already satisfied: numpy!=1.24.0,>=1.20 in /usr/local/lib/python3.10/dist-packages (from seaborn) (1.26.4)\n",
            "Requirement already satisfied: pandas>=1.2 in /usr/local/lib/python3.10/dist-packages (from seaborn) (2.2.2)\n",
            "Requirement already satisfied: matplotlib!=3.6.1,>=3.4 in /usr/local/lib/python3.10/dist-packages (from seaborn) (3.10.0)\n",
            "Requirement already satisfied: contourpy>=1.0.1 in /usr/local/lib/python3.10/dist-packages (from matplotlib!=3.6.1,>=3.4->seaborn) (1.3.1)\n",
            "Requirement already satisfied: cycler>=0.10 in /usr/local/lib/python3.10/dist-packages (from matplotlib!=3.6.1,>=3.4->seaborn) (0.12.1)\n",
            "Requirement already satisfied: fonttools>=4.22.0 in /usr/local/lib/python3.10/dist-packages (from matplotlib!=3.6.1,>=3.4->seaborn) (4.55.3)\n",
            "Requirement already satisfied: kiwisolver>=1.3.1 in /usr/local/lib/python3.10/dist-packages (from matplotlib!=3.6.1,>=3.4->seaborn) (1.4.8)\n",
            "Requirement already satisfied: packaging>=20.0 in /usr/local/lib/python3.10/dist-packages (from matplotlib!=3.6.1,>=3.4->seaborn) (24.2)\n",
            "Requirement already satisfied: pillow>=8 in /usr/local/lib/python3.10/dist-packages (from matplotlib!=3.6.1,>=3.4->seaborn) (11.1.0)\n",
            "Requirement already satisfied: pyparsing>=2.3.1 in /usr/local/lib/python3.10/dist-packages (from matplotlib!=3.6.1,>=3.4->seaborn) (3.2.1)\n",
            "Requirement already satisfied: python-dateutil>=2.7 in /usr/local/lib/python3.10/dist-packages (from matplotlib!=3.6.1,>=3.4->seaborn) (2.8.2)\n",
            "Requirement already satisfied: pytz>=2020.1 in /usr/local/lib/python3.10/dist-packages (from pandas>=1.2->seaborn) (2024.2)\n",
            "Requirement already satisfied: tzdata>=2022.7 in /usr/local/lib/python3.10/dist-packages (from pandas>=1.2->seaborn) (2024.2)\n",
            "Requirement already satisfied: six>=1.5 in /usr/local/lib/python3.10/dist-packages (from python-dateutil>=2.7->matplotlib!=3.6.1,>=3.4->seaborn) (1.17.0)\n",
            "Requirement already satisfied: tqdm in /usr/local/lib/python3.10/dist-packages (4.67.1)\n",
            "Requirement already satisfied: matplotlib in /usr/local/lib/python3.10/dist-packages (3.10.0)\n",
            "Requirement already satisfied: contourpy>=1.0.1 in /usr/local/lib/python3.10/dist-packages (from matplotlib) (1.3.1)\n",
            "Requirement already satisfied: cycler>=0.10 in /usr/local/lib/python3.10/dist-packages (from matplotlib) (0.12.1)\n",
            "Requirement already satisfied: fonttools>=4.22.0 in /usr/local/lib/python3.10/dist-packages (from matplotlib) (4.55.3)\n",
            "Requirement already satisfied: kiwisolver>=1.3.1 in /usr/local/lib/python3.10/dist-packages (from matplotlib) (1.4.8)\n",
            "Requirement already satisfied: numpy>=1.23 in /usr/local/lib/python3.10/dist-packages (from matplotlib) (1.26.4)\n",
            "Requirement already satisfied: packaging>=20.0 in /usr/local/lib/python3.10/dist-packages (from matplotlib) (24.2)\n",
            "Requirement already satisfied: pillow>=8 in /usr/local/lib/python3.10/dist-packages (from matplotlib) (11.1.0)\n",
            "Requirement already satisfied: pyparsing>=2.3.1 in /usr/local/lib/python3.10/dist-packages (from matplotlib) (3.2.1)\n",
            "Requirement already satisfied: python-dateutil>=2.7 in /usr/local/lib/python3.10/dist-packages (from matplotlib) (2.8.2)\n",
            "Requirement already satisfied: six>=1.5 in /usr/local/lib/python3.10/dist-packages (from python-dateutil>=2.7->matplotlib) (1.17.0)\n"
          ]
        }
      ],
      "source": [
        "!pip install kagglehub\n",
        "!pip install pandas\n",
        "!pip install nltk\n",
        "!pip install scikit-learn\n",
        "!pip install transformers\n",
        "!pip install torch\n",
        "!pip install seaborn\n",
        "!pip install tqdm\n",
        "!pip install matplotlib"
      ]
    },
    {
      "cell_type": "markdown",
      "source": [
        "# **Importazione del dataset**"
      ],
      "metadata": {
        "id": "nyxzYn5bH_YW"
      },
      "id": "nyxzYn5bH_YW"
    },
    {
      "cell_type": "code",
      "execution_count": null,
      "id": "initial_id",
      "metadata": {
        "colab": {
          "base_uri": "https://localhost:8080/",
          "height": 204
        },
        "id": "initial_id",
        "outputId": "bae18400-9fbc-402b-ad67-cdf3b1063703"
      },
      "outputs": [
        {
          "output_type": "execute_result",
          "data": {
            "text/plain": [
              "   S No.                                              Title  \\\n",
              "0      1  SpiceJet to issue 6.4 crore warrants to promoters   \n",
              "1      2                  MMTC Q2 net loss at Rs 10.4 crore   \n",
              "2      3  Mid-cap funds can deliver more, stay put: Experts   \n",
              "3      4             Mid caps now turn into market darlings   \n",
              "4      5  Market seeing patience, if not conviction: Pra...   \n",
              "\n",
              "                       Decisions  Words  \n",
              "0        {\"SpiceJet\": \"neutral\"}      8  \n",
              "1            {\"MMTC\": \"neutral\"}      8  \n",
              "2  {\"Mid-cap funds\": \"positive\"}      8  \n",
              "3       {\"Mid caps\": \"positive\"}      7  \n",
              "4          {\"Market\": \"neutral\"}      8  "
            ],
            "text/html": [
              "\n",
              "  <div id=\"df-4abeb637-e81c-4ddd-b628-a89c8acf6d6b\" class=\"colab-df-container\">\n",
              "    <div>\n",
              "<style scoped>\n",
              "    .dataframe tbody tr th:only-of-type {\n",
              "        vertical-align: middle;\n",
              "    }\n",
              "\n",
              "    .dataframe tbody tr th {\n",
              "        vertical-align: top;\n",
              "    }\n",
              "\n",
              "    .dataframe thead th {\n",
              "        text-align: right;\n",
              "    }\n",
              "</style>\n",
              "<table border=\"1\" class=\"dataframe\">\n",
              "  <thead>\n",
              "    <tr style=\"text-align: right;\">\n",
              "      <th></th>\n",
              "      <th>S No.</th>\n",
              "      <th>Title</th>\n",
              "      <th>Decisions</th>\n",
              "      <th>Words</th>\n",
              "    </tr>\n",
              "  </thead>\n",
              "  <tbody>\n",
              "    <tr>\n",
              "      <th>0</th>\n",
              "      <td>1</td>\n",
              "      <td>SpiceJet to issue 6.4 crore warrants to promoters</td>\n",
              "      <td>{\"SpiceJet\": \"neutral\"}</td>\n",
              "      <td>8</td>\n",
              "    </tr>\n",
              "    <tr>\n",
              "      <th>1</th>\n",
              "      <td>2</td>\n",
              "      <td>MMTC Q2 net loss at Rs 10.4 crore</td>\n",
              "      <td>{\"MMTC\": \"neutral\"}</td>\n",
              "      <td>8</td>\n",
              "    </tr>\n",
              "    <tr>\n",
              "      <th>2</th>\n",
              "      <td>3</td>\n",
              "      <td>Mid-cap funds can deliver more, stay put: Experts</td>\n",
              "      <td>{\"Mid-cap funds\": \"positive\"}</td>\n",
              "      <td>8</td>\n",
              "    </tr>\n",
              "    <tr>\n",
              "      <th>3</th>\n",
              "      <td>4</td>\n",
              "      <td>Mid caps now turn into market darlings</td>\n",
              "      <td>{\"Mid caps\": \"positive\"}</td>\n",
              "      <td>7</td>\n",
              "    </tr>\n",
              "    <tr>\n",
              "      <th>4</th>\n",
              "      <td>5</td>\n",
              "      <td>Market seeing patience, if not conviction: Pra...</td>\n",
              "      <td>{\"Market\": \"neutral\"}</td>\n",
              "      <td>8</td>\n",
              "    </tr>\n",
              "  </tbody>\n",
              "</table>\n",
              "</div>\n",
              "    <div class=\"colab-df-buttons\">\n",
              "\n",
              "  <div class=\"colab-df-container\">\n",
              "    <button class=\"colab-df-convert\" onclick=\"convertToInteractive('df-4abeb637-e81c-4ddd-b628-a89c8acf6d6b')\"\n",
              "            title=\"Convert this dataframe to an interactive table.\"\n",
              "            style=\"display:none;\">\n",
              "\n",
              "  <svg xmlns=\"http://www.w3.org/2000/svg\" height=\"24px\" viewBox=\"0 -960 960 960\">\n",
              "    <path d=\"M120-120v-720h720v720H120Zm60-500h600v-160H180v160Zm220 220h160v-160H400v160Zm0 220h160v-160H400v160ZM180-400h160v-160H180v160Zm440 0h160v-160H620v160ZM180-180h160v-160H180v160Zm440 0h160v-160H620v160Z\"/>\n",
              "  </svg>\n",
              "    </button>\n",
              "\n",
              "  <style>\n",
              "    .colab-df-container {\n",
              "      display:flex;\n",
              "      gap: 12px;\n",
              "    }\n",
              "\n",
              "    .colab-df-convert {\n",
              "      background-color: #E8F0FE;\n",
              "      border: none;\n",
              "      border-radius: 50%;\n",
              "      cursor: pointer;\n",
              "      display: none;\n",
              "      fill: #1967D2;\n",
              "      height: 32px;\n",
              "      padding: 0 0 0 0;\n",
              "      width: 32px;\n",
              "    }\n",
              "\n",
              "    .colab-df-convert:hover {\n",
              "      background-color: #E2EBFA;\n",
              "      box-shadow: 0px 1px 2px rgba(60, 64, 67, 0.3), 0px 1px 3px 1px rgba(60, 64, 67, 0.15);\n",
              "      fill: #174EA6;\n",
              "    }\n",
              "\n",
              "    .colab-df-buttons div {\n",
              "      margin-bottom: 4px;\n",
              "    }\n",
              "\n",
              "    [theme=dark] .colab-df-convert {\n",
              "      background-color: #3B4455;\n",
              "      fill: #D2E3FC;\n",
              "    }\n",
              "\n",
              "    [theme=dark] .colab-df-convert:hover {\n",
              "      background-color: #434B5C;\n",
              "      box-shadow: 0px 1px 3px 1px rgba(0, 0, 0, 0.15);\n",
              "      filter: drop-shadow(0px 1px 2px rgba(0, 0, 0, 0.3));\n",
              "      fill: #FFFFFF;\n",
              "    }\n",
              "  </style>\n",
              "\n",
              "    <script>\n",
              "      const buttonEl =\n",
              "        document.querySelector('#df-4abeb637-e81c-4ddd-b628-a89c8acf6d6b button.colab-df-convert');\n",
              "      buttonEl.style.display =\n",
              "        google.colab.kernel.accessAllowed ? 'block' : 'none';\n",
              "\n",
              "      async function convertToInteractive(key) {\n",
              "        const element = document.querySelector('#df-4abeb637-e81c-4ddd-b628-a89c8acf6d6b');\n",
              "        const dataTable =\n",
              "          await google.colab.kernel.invokeFunction('convertToInteractive',\n",
              "                                                    [key], {});\n",
              "        if (!dataTable) return;\n",
              "\n",
              "        const docLinkHtml = 'Like what you see? Visit the ' +\n",
              "          '<a target=\"_blank\" href=https://colab.research.google.com/notebooks/data_table.ipynb>data table notebook</a>'\n",
              "          + ' to learn more about interactive tables.';\n",
              "        element.innerHTML = '';\n",
              "        dataTable['output_type'] = 'display_data';\n",
              "        await google.colab.output.renderOutput(dataTable, element);\n",
              "        const docLink = document.createElement('div');\n",
              "        docLink.innerHTML = docLinkHtml;\n",
              "        element.appendChild(docLink);\n",
              "      }\n",
              "    </script>\n",
              "  </div>\n",
              "\n",
              "\n",
              "<div id=\"df-46868bc1-61c0-4167-831c-00b86dde9142\">\n",
              "  <button class=\"colab-df-quickchart\" onclick=\"quickchart('df-46868bc1-61c0-4167-831c-00b86dde9142')\"\n",
              "            title=\"Suggest charts\"\n",
              "            style=\"display:none;\">\n",
              "\n",
              "<svg xmlns=\"http://www.w3.org/2000/svg\" height=\"24px\"viewBox=\"0 0 24 24\"\n",
              "     width=\"24px\">\n",
              "    <g>\n",
              "        <path d=\"M19 3H5c-1.1 0-2 .9-2 2v14c0 1.1.9 2 2 2h14c1.1 0 2-.9 2-2V5c0-1.1-.9-2-2-2zM9 17H7v-7h2v7zm4 0h-2V7h2v10zm4 0h-2v-4h2v4z\"/>\n",
              "    </g>\n",
              "</svg>\n",
              "  </button>\n",
              "\n",
              "<style>\n",
              "  .colab-df-quickchart {\n",
              "      --bg-color: #E8F0FE;\n",
              "      --fill-color: #1967D2;\n",
              "      --hover-bg-color: #E2EBFA;\n",
              "      --hover-fill-color: #174EA6;\n",
              "      --disabled-fill-color: #AAA;\n",
              "      --disabled-bg-color: #DDD;\n",
              "  }\n",
              "\n",
              "  [theme=dark] .colab-df-quickchart {\n",
              "      --bg-color: #3B4455;\n",
              "      --fill-color: #D2E3FC;\n",
              "      --hover-bg-color: #434B5C;\n",
              "      --hover-fill-color: #FFFFFF;\n",
              "      --disabled-bg-color: #3B4455;\n",
              "      --disabled-fill-color: #666;\n",
              "  }\n",
              "\n",
              "  .colab-df-quickchart {\n",
              "    background-color: var(--bg-color);\n",
              "    border: none;\n",
              "    border-radius: 50%;\n",
              "    cursor: pointer;\n",
              "    display: none;\n",
              "    fill: var(--fill-color);\n",
              "    height: 32px;\n",
              "    padding: 0;\n",
              "    width: 32px;\n",
              "  }\n",
              "\n",
              "  .colab-df-quickchart:hover {\n",
              "    background-color: var(--hover-bg-color);\n",
              "    box-shadow: 0 1px 2px rgba(60, 64, 67, 0.3), 0 1px 3px 1px rgba(60, 64, 67, 0.15);\n",
              "    fill: var(--button-hover-fill-color);\n",
              "  }\n",
              "\n",
              "  .colab-df-quickchart-complete:disabled,\n",
              "  .colab-df-quickchart-complete:disabled:hover {\n",
              "    background-color: var(--disabled-bg-color);\n",
              "    fill: var(--disabled-fill-color);\n",
              "    box-shadow: none;\n",
              "  }\n",
              "\n",
              "  .colab-df-spinner {\n",
              "    border: 2px solid var(--fill-color);\n",
              "    border-color: transparent;\n",
              "    border-bottom-color: var(--fill-color);\n",
              "    animation:\n",
              "      spin 1s steps(1) infinite;\n",
              "  }\n",
              "\n",
              "  @keyframes spin {\n",
              "    0% {\n",
              "      border-color: transparent;\n",
              "      border-bottom-color: var(--fill-color);\n",
              "      border-left-color: var(--fill-color);\n",
              "    }\n",
              "    20% {\n",
              "      border-color: transparent;\n",
              "      border-left-color: var(--fill-color);\n",
              "      border-top-color: var(--fill-color);\n",
              "    }\n",
              "    30% {\n",
              "      border-color: transparent;\n",
              "      border-left-color: var(--fill-color);\n",
              "      border-top-color: var(--fill-color);\n",
              "      border-right-color: var(--fill-color);\n",
              "    }\n",
              "    40% {\n",
              "      border-color: transparent;\n",
              "      border-right-color: var(--fill-color);\n",
              "      border-top-color: var(--fill-color);\n",
              "    }\n",
              "    60% {\n",
              "      border-color: transparent;\n",
              "      border-right-color: var(--fill-color);\n",
              "    }\n",
              "    80% {\n",
              "      border-color: transparent;\n",
              "      border-right-color: var(--fill-color);\n",
              "      border-bottom-color: var(--fill-color);\n",
              "    }\n",
              "    90% {\n",
              "      border-color: transparent;\n",
              "      border-bottom-color: var(--fill-color);\n",
              "    }\n",
              "  }\n",
              "</style>\n",
              "\n",
              "  <script>\n",
              "    async function quickchart(key) {\n",
              "      const quickchartButtonEl =\n",
              "        document.querySelector('#' + key + ' button');\n",
              "      quickchartButtonEl.disabled = true;  // To prevent multiple clicks.\n",
              "      quickchartButtonEl.classList.add('colab-df-spinner');\n",
              "      try {\n",
              "        const charts = await google.colab.kernel.invokeFunction(\n",
              "            'suggestCharts', [key], {});\n",
              "      } catch (error) {\n",
              "        console.error('Error during call to suggestCharts:', error);\n",
              "      }\n",
              "      quickchartButtonEl.classList.remove('colab-df-spinner');\n",
              "      quickchartButtonEl.classList.add('colab-df-quickchart-complete');\n",
              "    }\n",
              "    (() => {\n",
              "      let quickchartButtonEl =\n",
              "        document.querySelector('#df-46868bc1-61c0-4167-831c-00b86dde9142 button');\n",
              "      quickchartButtonEl.style.display =\n",
              "        google.colab.kernel.accessAllowed ? 'block' : 'none';\n",
              "    })();\n",
              "  </script>\n",
              "</div>\n",
              "\n",
              "    </div>\n",
              "  </div>\n"
            ],
            "application/vnd.google.colaboratory.intrinsic+json": {
              "type": "dataframe",
              "variable_name": "df",
              "summary": "{\n  \"name\": \"df\",\n  \"rows\": 10753,\n  \"fields\": [\n    {\n      \"column\": \"S No.\",\n      \"properties\": {\n        \"dtype\": \"number\",\n        \"std\": 3104,\n        \"min\": 1,\n        \"max\": 10753,\n        \"num_unique_values\": 10753,\n        \"samples\": [\n          669,\n          5334,\n          4437\n        ],\n        \"semantic_type\": \"\",\n        \"description\": \"\"\n      }\n    },\n    {\n      \"column\": \"Title\",\n      \"properties\": {\n        \"dtype\": \"string\",\n        \"num_unique_values\": 10686,\n        \"samples\": [\n          \"Crude oil: A tale of two crashes\",\n          \"Prism Cement Q1 net profit at Rs 13.24 crore\",\n          \"Euro remains range-bound against dollar ahead of ECB meeting\"\n        ],\n        \"semantic_type\": \"\",\n        \"description\": \"\"\n      }\n    },\n    {\n      \"column\": \"Decisions\",\n      \"properties\": {\n        \"dtype\": \"string\",\n        \"num_unique_values\": 6564,\n        \"samples\": [\n          \"{\\\"Pulses\\\": \\\"positive\\\"}\",\n          \"{\\\"auto space\\\": \\\"positive\\\"}\",\n          \"{\\\"Commodities\\\": \\\"neutral\\\", \\\"Standard Chartered Capital Markets\\\": \\\"neutral\\\"}\"\n        ],\n        \"semantic_type\": \"\",\n        \"description\": \"\"\n      }\n    },\n    {\n      \"column\": \"Words\",\n      \"properties\": {\n        \"dtype\": \"number\",\n        \"std\": 2,\n        \"min\": 3,\n        \"max\": 23,\n        \"num_unique_values\": 21,\n        \"samples\": [\n          8,\n          20,\n          19\n        ],\n        \"semantic_type\": \"\",\n        \"description\": \"\"\n      }\n    }\n  ]\n}"
            }
          },
          "metadata": {},
          "execution_count": 1
        }
      ],
      "source": [
        "import os\n",
        "import pandas as pd\n",
        "import kagglehub\n",
        "\n",
        "path = kagglehub.dataset_download(\"ankurzing/aspect-based-sentiment-analysis-for-financial-news\")\n",
        "file_path = os.path.join(path, \"SEntFiN-v1.1.csv\")\n",
        "\n",
        "df = pd.read_csv(file_path)\n",
        "df.head()"
      ]
    },
    {
      "cell_type": "markdown",
      "source": [
        "# **Numero di elementi per classe**"
      ],
      "metadata": {
        "id": "fwwCk36MIJKp"
      },
      "id": "fwwCk36MIJKp"
    },
    {
      "cell_type": "code",
      "execution_count": null,
      "id": "f5a7c3ce5185cd11",
      "metadata": {
        "colab": {
          "base_uri": "https://localhost:8080/"
        },
        "id": "f5a7c3ce5185cd11",
        "outputId": "881e686b-b8ac-451b-98b3-574ebe639d5b"
      },
      "outputs": [
        {
          "output_type": "stream",
          "name": "stdout",
          "text": [
            "Conteggio per tipo di sentiment:\n",
            "Sentiment\n",
            "positive    4170\n",
            "neutral     3444\n",
            "negative    3139\n",
            "Name: count, dtype: int64\n"
          ]
        }
      ],
      "source": [
        "# Contare le occorrenze per classe\n",
        "# Classe neutral, Classe negative, Classe positive\n",
        "\n",
        "# Estrai i valori (positive, neutral, negative) dalla colonna Decisions\n",
        "# I valore positive, negative, neutral si estraggono da una colonna NLP che si chiama Sentiment\n",
        "df['Sentiment'] = df['Decisions'].apply(lambda x: eval(x).values()).apply(list).str[0]\n",
        "\n",
        "# Conta gli elementi per tipo\n",
        "counts = df['Sentiment'].value_counts()\n",
        "\n",
        "print(\"Conteggio per tipo di sentiment:\")\n",
        "print(counts)"
      ]
    },
    {
      "cell_type": "markdown",
      "source": [
        "# **Bilanciamento delle classi (se necessario)**"
      ],
      "metadata": {
        "id": "wvuzHFSWIbsM"
      },
      "id": "wvuzHFSWIbsM"
    },
    {
      "cell_type": "code",
      "source": [
        "# Uniforma il numero di campioni per classe\n",
        "from sklearn.utils import resample\n",
        "\n",
        "# Trova il numero minimo di campioni tra le classi\n",
        "# Sentiment corrisponde a neautral, positive o negative\n",
        "min_count = df['Sentiment'].value_counts().min()\n",
        "\n",
        "# Crea un DataFrame per ogni classe\n",
        "classes = df['Sentiment'].unique()\n",
        "balanced_dfs = []\n",
        "\n",
        "for sentiment_class in classes:\n",
        "    class_df = df[df['Sentiment'] == sentiment_class]\n",
        "    balanced_df = class_df.sample(n=min_count, random_state=42)  # Campiona min_count elementi\n",
        "    balanced_dfs.append(balanced_df)\n",
        "\n",
        "# Combina i DataFrame bilanciati\n",
        "balanced_df = pd.concat(balanced_dfs).reset_index(drop=True)\n",
        "\n",
        "# Verifica il nuovo conteggio delle classi\n",
        "print(\"Conteggio bilanciato per tipo di sentiment:\")\n",
        "print(balanced_df['Sentiment'].value_counts())\n"
      ],
      "metadata": {
        "id": "PHMrfLFs_hSH"
      },
      "id": "PHMrfLFs_hSH",
      "execution_count": null,
      "outputs": []
    },
    {
      "cell_type": "markdown",
      "source": [
        "# **Righe con più di un sentiment**"
      ],
      "metadata": {
        "id": "Xg_Jcy3aYS6a"
      },
      "id": "Xg_Jcy3aYS6a"
    },
    {
      "cell_type": "code",
      "source": [
        "# Contare il numero di sentiment in ogni riga\n",
        "df['NumSentiments'] = df['Decisions'].apply(lambda x: len(eval(x)))\n",
        "\n",
        "# Filtrare le righe con più di un sentiment\n",
        "rows_with_multiple_sentiments = df[df['NumSentiments'] > 1]\n",
        "\n",
        "# Conteggio delle righe con più di un sentiment\n",
        "num_rows_with_multiple_sentiments = len(rows_with_multiple_sentiments)\n",
        "\n",
        "print(f\"Numero di righe con più di un sentiment: {num_rows_with_multiple_sentiments}\")"
      ],
      "metadata": {
        "colab": {
          "base_uri": "https://localhost:8080/"
        },
        "id": "9CJYe5f7Ya6X",
        "outputId": "fb220866-81c4-4bbb-8ea5-a22b3d198afd"
      },
      "id": "9CJYe5f7Ya6X",
      "execution_count": null,
      "outputs": [
        {
          "output_type": "stream",
          "name": "stdout",
          "text": [
            "Numero di righe con più di un sentiment: 2850\n"
          ]
        }
      ]
    },
    {
      "cell_type": "markdown",
      "source": [
        "# **Pulizia della colonna \"Title\"**"
      ],
      "metadata": {
        "id": "DXmsgTLfIotY"
      },
      "id": "DXmsgTLfIotY"
    },
    {
      "cell_type": "code",
      "execution_count": null,
      "id": "765eecde3d539e5f",
      "metadata": {
        "colab": {
          "base_uri": "https://localhost:8080/"
        },
        "id": "765eecde3d539e5f",
        "outputId": "4dec0150-d0db-4e23-cb30-77cf65d70cf3"
      },
      "outputs": [
        {
          "output_type": "stream",
          "name": "stdout",
          "text": [
            "   S No.                                            Title  \\\n",
            "0      1          spicejet issue crore warrants promoters   \n",
            "1      2                         mmtc q net loss rs crore   \n",
            "2      3            midcap funds deliver stay put experts   \n",
            "3      4                    mid caps turn market darlings   \n",
            "4      5  market seeing patience conviction prakash diwan   \n",
            "\n",
            "                       Decisions  Words Sentiment  NumSentiments  \n",
            "0        {\"SpiceJet\": \"neutral\"}      8   neutral              1  \n",
            "1            {\"MMTC\": \"neutral\"}      8   neutral              1  \n",
            "2  {\"Mid-cap funds\": \"positive\"}      8  positive              1  \n",
            "3       {\"Mid caps\": \"positive\"}      7  positive              1  \n",
            "4          {\"Market\": \"neutral\"}      8   neutral              1  \n"
          ]
        }
      ],
      "source": [
        "import re\n",
        "import nltk\n",
        "from nltk.corpus import stopwords\n",
        "\n",
        "# Ottieni l'elenco delle stopwords in inglese\n",
        "import zipfile\n",
        "with zipfile.ZipFile(\"stopwords.zip\", \"r\") as zip_ref:\n",
        "    zip_ref.extractall(\"nltk_data/corpora\")  # Estrai nella directory \"nltk_data/corpora\"\n",
        "\n",
        "import nltk\n",
        "nltk.data.path.append(\"./nltk_data\")  # Aggiungi il percorso personalizzato\n",
        "\n",
        "# Verifica che le stopwords siano disponibili\n",
        "from nltk.corpus import stopwords\n",
        "stop_words = set(stopwords.words(\"english\"))\n",
        "\n",
        "def clean_text(text):\n",
        "    # Converte il testo in minuscolo\n",
        "    text = text.lower()\n",
        "\n",
        "    # Rimuove link\n",
        "    text = re.sub(r\"http\\S+|www\\S+|https\\S+\", \"\", text, flags=re.MULTILINE)\n",
        "\n",
        "    # Rimuove caratteri speciali e punteggiatura\n",
        "    text = re.sub(r\"[^a-zA-Z\\s]\", \"\", text)\n",
        "\n",
        "    # Rimuove numeri\n",
        "    text = re.sub(r\"\\d+\", \"\", text)\n",
        "\n",
        "    # Rimuove spazi multipli\n",
        "    text = re.sub(r\"\\s+\", \" \", text).strip()\n",
        "\n",
        "    # Rimuove stopwords in inglese\n",
        "    words = text.split()  # Tokenizza il testo in parole\n",
        "    filtered_words = [word for word in words if word not in stop_words]\n",
        "    text = \" \".join(filtered_words)  # Ricompone il testo senza stopwords\n",
        "\n",
        "    return text\n",
        "\n",
        "# Crea una nuova colonna 'Title' con la versione di 'Title' senza stopwords\n",
        "df_cleaned = df.copy()\n",
        "df_cleaned[\"Title\"] = df_cleaned[\"Title\"].apply(clean_text)\n",
        "\n",
        "print(df_cleaned.head())\n"
      ]
    },
    {
      "cell_type": "markdown",
      "source": [
        "# **Tokenizzazione delle parole del titolo**"
      ],
      "metadata": {
        "id": "m7sizjnLI5lf"
      },
      "id": "m7sizjnLI5lf"
    },
    {
      "cell_type": "code",
      "execution_count": null,
      "id": "154349377d14ce20",
      "metadata": {
        "colab": {
          "base_uri": "https://localhost:8080/"
        },
        "id": "154349377d14ce20",
        "outputId": "1043e333-3b07-4225-924c-9d11d5cbdae9"
      },
      "outputs": [
        {
          "output_type": "stream",
          "name": "stderr",
          "text": [
            "/usr/local/lib/python3.10/dist-packages/huggingface_hub/utils/_auth.py:94: UserWarning: \n",
            "The secret `HF_TOKEN` does not exist in your Colab secrets.\n",
            "To authenticate with the Hugging Face Hub, create a token in your settings tab (https://huggingface.co/settings/tokens), set it as secret in your Google Colab and restart your session.\n",
            "You will be able to reuse this secret in all of your notebooks.\n",
            "Please note that authentication is recommended but still optional to access public models or datasets.\n",
            "  warnings.warn(\n"
          ]
        },
        {
          "output_type": "stream",
          "name": "stdout",
          "text": [
            "         Tokens  Token IDs  N.ro Row\n",
            "0         spice      17688         0\n",
            "1         ##jet      15759         0\n",
            "2         issue       3277         0\n",
            "3         crore      21665         0\n",
            "4       warrant      10943         0\n",
            "...         ...        ...       ...\n",
            "110750   shares       6661     10752\n",
            "110751     flat       4257     10752\n",
            "110752   energy       2943     10752\n",
            "110753     drag       8011     10752\n",
            "110754      ##s       2015     10752\n",
            "\n",
            "[110755 rows x 3 columns]\n"
          ]
        }
      ],
      "source": [
        "from transformers import BertTokenizer\n",
        "\n",
        "# Tokenizza il testo e prepara input IDs e attention masks\n",
        "# InputIDs: rappresentazioni numeriche del testo di input\n",
        "# Attention Mask: indica quali token devono essere considerati dal modello e quali no (ad esempio i token di padding, ovvero gli spazi bianchi per uniformare la lunghezza delle frasi)\n",
        "tokenizer = BertTokenizer.from_pretrained(\"bert-base-uncased\")\n",
        "\n",
        "# Funzione per capire come vengono tokenizzati i titoli\n",
        "def tokenize_titles(df):\n",
        "    tokenized_dfs = []\n",
        "\n",
        "    for index, row in df.iterrows():\n",
        "        title = row[\"Title\"]\n",
        "        tokens = tokenizer.tokenize(title)  # Tokenizza il testo\n",
        "        token_ids = tokenizer.convert_tokens_to_ids(tokens)  # Ottieni gli ID dei token\n",
        "\n",
        "        # Crea un DataFrame per il titolo corrente\n",
        "        tokenized_df = pd.DataFrame({\n",
        "            \"Tokens\": tokens,\n",
        "            \"Token IDs\": token_ids\n",
        "        })\n",
        "\n",
        "        # Aggiungi il numero della riga di origine\n",
        "        tokenized_df[\"N.ro Row\"] = index\n",
        "\n",
        "        # Aggiungi alla lista dei DataFrame\n",
        "        tokenized_dfs.append(tokenized_df)\n",
        "\n",
        "    # Combina tutti i DataFrame in un'unica tabella\n",
        "    result_df = pd.concat(tokenized_dfs, ignore_index=True)\n",
        "    return result_df\n",
        "\n",
        "# Applica la funzione al tuo DataFrame\n",
        "tokenized_result = tokenize_titles(df_cleaned)\n",
        "\n",
        "# Mostra la tabella risultante\n",
        "print(tokenized_result)"
      ]
    },
    {
      "cell_type": "markdown",
      "source": [
        "# **Conteggio della lunghezza massima e media dei \"Title\" (parole)**"
      ],
      "metadata": {
        "id": "v-2RyS901uZh"
      },
      "id": "v-2RyS901uZh"
    },
    {
      "cell_type": "code",
      "source": [
        "# Ottieni la lista dei titoli\n",
        "titles = df_cleaned['Title'].tolist()\n",
        "\n",
        "# Calcola la lunghezza in termini di numero di parole\n",
        "word_lengths = [len(title.split()) for title in titles]\n",
        "\n",
        "# Lunghezza massima e media in termini di parole\n",
        "max_word_length = max(word_lengths)\n",
        "mean_word_length = sum(word_lengths) / len(word_lengths)\n",
        "\n",
        "print(f\"Lunghezza massima delle frasi (parole): {max_word_length}\")\n",
        "print(f\"Lunghezza media delle frasi (parole): {mean_word_length:.2f}\")"
      ],
      "metadata": {
        "colab": {
          "base_uri": "https://localhost:8080/"
        },
        "id": "bhJULOvM1urn",
        "outputId": "8102a7ca-c844-47f0-8a93-06fd75cb7256"
      },
      "id": "bhJULOvM1urn",
      "execution_count": null,
      "outputs": [
        {
          "output_type": "stream",
          "name": "stdout",
          "text": [
            "Lunghezza massima delle frasi (parole): 17\n",
            "Lunghezza media delle frasi (parole): 7.51\n"
          ]
        }
      ]
    },
    {
      "cell_type": "markdown",
      "source": [
        "# **Conteggio della lunghezza massima e media dei \"Title\" (token) (utile per regolare il padding)**"
      ],
      "metadata": {
        "id": "XAMgDmHpKV_Z"
      },
      "id": "XAMgDmHpKV_Z"
    },
    {
      "cell_type": "code",
      "execution_count": null,
      "id": "ab6e4d72cc955419",
      "metadata": {
        "colab": {
          "base_uri": "https://localhost:8080/"
        },
        "id": "ab6e4d72cc955419",
        "outputId": "88770668-a86c-4822-ca93-a36c9343c905"
      },
      "outputs": [
        {
          "output_type": "stream",
          "name": "stdout",
          "text": [
            "Lunghezza massima delle frasi: 27\n",
            "Lunghezza media delle frasi: 10.30\n"
          ]
        }
      ],
      "source": [
        "titles = df_cleaned['Title'].tolist()\n",
        "\n",
        "# Calcola la lunghezza dei token per ogni titolo per capire a quanto impostare il padding\n",
        "token_lengths = [len(tokenizer.tokenize(title)) for title in titles]\n",
        "\n",
        "# Lunghezza massima e media\n",
        "max_length = max(token_lengths)\n",
        "mean_length = sum(token_lengths) / len(token_lengths)\n",
        "\n",
        "print(f\"Lunghezza massima delle frasi: {max_length}\")\n",
        "print(f\"Lunghezza media delle frasi: {mean_length:.2f}\")"
      ]
    },
    {
      "cell_type": "markdown",
      "source": [
        "# **Preparazione dei dati e divisione tra training, val e test set**"
      ],
      "metadata": {
        "id": "jwSTtQMHKtlR"
      },
      "id": "jwSTtQMHKtlR"
    },
    {
      "cell_type": "code",
      "execution_count": null,
      "id": "214b75528e2caa63",
      "metadata": {
        "id": "214b75528e2caa63"
      },
      "outputs": [],
      "source": [
        "from sklearn.model_selection import train_test_split\n",
        "import torch\n",
        "\n",
        "# Preparazione dei dati per il modello di classificazione BERT\n",
        "def prepare_inputs(df, max_length):\n",
        "    input_ids = []\n",
        "    attention_masks = []\n",
        "    for title in df['Title']:\n",
        "        encoded = tokenizer.encode_plus(\n",
        "            title,\n",
        "            add_special_tokens=True,\n",
        "            max_length=max_length,\n",
        "            padding=\"max_length\",\n",
        "            truncation=True,\n",
        "            return_tensors=\"pt\"\n",
        "        )\n",
        "        input_ids.append(encoded['input_ids'])\n",
        "        attention_masks.append(encoded['attention_mask'])\n",
        "\n",
        "    input_ids = torch.cat(input_ids, dim=0)\n",
        "    attention_masks = torch.cat(attention_masks, dim=0)\n",
        "\n",
        "    return input_ids, attention_masks\n",
        "\n",
        "# max_length si riferisce alla lunghezza uniforme di tutti i titoli\n",
        "max_length = 30  # Buon compromesso\n",
        "input_ids, attention_masks = prepare_inputs(df_cleaned, max_length)\n",
        "\n",
        "# Divisione in training, validation e test\n",
        "y = df_cleaned['Sentiment']\n",
        "\n",
        "# Prima divisione: training e test\n",
        "X_train_ids, X_test_ids, X_train_masks, X_test_masks, y_train, y_test = train_test_split(\n",
        "    input_ids, attention_masks, y, test_size=0.2, random_state=42, stratify=y\n",
        ")\n",
        "\n",
        "# Seconda divisione: training e validation\n",
        "X_train_ids, X_val_ids, X_train_masks, X_val_masks, y_train, y_val = train_test_split(\n",
        "    X_train_ids, X_train_masks, y_train, test_size=0.2, random_state=42, stratify=y_train\n",
        ")\n",
        "\n",
        "# Resetta gli indici per evitare disallineamenti\n",
        "y_train = y_train.reset_index(drop=True)\n",
        "y_val = y_val.reset_index(drop=True)\n",
        "y_test = y_test.reset_index(drop=True)\n",
        "\n",
        "# Mappa le etichette a numeri\n",
        "label_mapping = {\"negative\": 0, \"neutral\": 1, \"positive\": 2}\n",
        "y_train = y_train.map(label_mapping)\n",
        "y_val = y_val.map(label_mapping)\n",
        "y_test = y_test.map(label_mapping)"
      ]
    },
    {
      "cell_type": "markdown",
      "source": [
        "# **Personalizzazione del training e del test set per un modello BERT**"
      ],
      "metadata": {
        "id": "qAmLrPtaLYIk"
      },
      "id": "qAmLrPtaLYIk"
    },
    {
      "cell_type": "code",
      "execution_count": null,
      "id": "d8aed8d014f904a1",
      "metadata": {
        "id": "d8aed8d014f904a1"
      },
      "outputs": [],
      "source": [
        "from torch.utils.data import Dataset, DataLoader\n",
        "\n",
        "# Classe per gestire i dati con PyTorch\n",
        "class SentimentDataset(Dataset):\n",
        "    def __init__(self, input_ids, attention_masks, labels):\n",
        "        self.input_ids = input_ids\n",
        "        self.attention_masks = attention_masks\n",
        "        self.labels = torch.tensor(labels.to_numpy(), dtype=torch.long)  # Specifica il tipo long\n",
        "\n",
        "    def __len__(self):\n",
        "        return len(self.labels)\n",
        "\n",
        "    def __getitem__(self, idx):\n",
        "        return {\n",
        "            \"input_ids\": self.input_ids[idx],\n",
        "            \"attention_mask\": self.attention_masks[idx],\n",
        "            \"label\": self.labels[idx]\n",
        "        }\n",
        "\n",
        "# Dataset per training, validation e test\n",
        "train_dataset = SentimentDataset(X_train_ids, X_train_masks, y_train)\n",
        "val_dataset = SentimentDataset(X_val_ids, X_val_masks, y_val)\n",
        "test_dataset = SentimentDataset(X_test_ids, X_test_masks, y_test)\n",
        "\n",
        "# Crea DataLoader\n",
        "batch_size = 64\n",
        "train_dataloader = DataLoader(train_dataset, batch_size=batch_size, shuffle=True)\n",
        "val_dataloader = DataLoader(val_dataset, batch_size=batch_size)\n",
        "test_dataloader = DataLoader(test_dataset, batch_size=batch_size)"
      ]
    },
    {
      "cell_type": "markdown",
      "source": [
        "# **Inizializzazione del modello BERT per fine tuning**"
      ],
      "metadata": {
        "id": "B7QPIjilL9ed"
      },
      "id": "B7QPIjilL9ed"
    },
    {
      "cell_type": "code",
      "execution_count": null,
      "id": "f9ef6e610d0a1f9",
      "metadata": {
        "colab": {
          "base_uri": "https://localhost:8080/",
          "height": 137,
          "referenced_widgets": [
            "9001445a8837409ab9c3532bb7716310",
            "3e97e1cd77bd43969ac2009dd6dd8942",
            "682a9c07998f494bbb93345d3103bfdf",
            "e7c3534628a2453da45635ed1b367b3f",
            "e73d213d8d684ac39435e1fc31612876",
            "e7afc549c69f45c2874465aca93c8799",
            "7e2023e9416a4383918216ac70c51acf",
            "dfb8af3c543b4bd793fde2c02ecdefc6",
            "48ff996e279840d983f3aa98a207b7f3",
            "3b85537a69bc4733a734fb1d1a0159d1",
            "16f4dff8028a439691c566af4c4286fd"
          ]
        },
        "id": "f9ef6e610d0a1f9",
        "outputId": "f051e471-7c13-4f12-97b8-8423de206574"
      },
      "outputs": [
        {
          "output_type": "display_data",
          "data": {
            "text/plain": [
              "model.safetensors:   0%|          | 0.00/440M [00:00<?, ?B/s]"
            ],
            "application/vnd.jupyter.widget-view+json": {
              "version_major": 2,
              "version_minor": 0,
              "model_id": "9001445a8837409ab9c3532bb7716310"
            }
          },
          "metadata": {}
        },
        {
          "output_type": "stream",
          "name": "stderr",
          "text": [
            "Some weights of BertForSequenceClassification were not initialized from the model checkpoint at bert-base-uncased and are newly initialized: ['classifier.bias', 'classifier.weight']\n",
            "You should probably TRAIN this model on a down-stream task to be able to use it for predictions and inference.\n",
            "/usr/local/lib/python3.10/dist-packages/transformers/optimization.py:591: FutureWarning: This implementation of AdamW is deprecated and will be removed in a future version. Use the PyTorch implementation torch.optim.AdamW instead, or set `no_deprecation_warning=True` to disable this warning\n",
            "  warnings.warn(\n"
          ]
        }
      ],
      "source": [
        "import torch\n",
        "from transformers import BertForSequenceClassification, AdamW, get_scheduler\n",
        "\n",
        "# Inizializza il modello BERT per classificazione\n",
        "num_labels = 3  # Numero di classi (positive, neutral, negative)\n",
        "model = BertForSequenceClassification.from_pretrained(\"bert-base-uncased\", num_labels=num_labels)\n",
        "\n",
        "# Sposta il modello sulla GPU se disponibile\n",
        "device = torch.device(\"cuda\") if torch.cuda.is_available() else torch.device(\"cpu\")\n",
        "model.to(device)\n",
        "\n",
        "# Inizializza l'ottimizzatore e lo scheduler\n",
        "optimizer = AdamW(model.parameters(), lr=1e-5)  # lr corrisponde al learning rate\n",
        "num_epochs = 4  # Numero di epoche di addestramento\n",
        "num_training_steps = len(train_dataloader) * num_epochs  # Numero totale di aggiornamenti dei pesi\n",
        "lr_scheduler = get_scheduler(\n",
        "    \"linear\", optimizer=optimizer, num_warmup_steps=0, num_training_steps=num_training_steps\n",
        ")"
      ]
    },
    {
      "cell_type": "markdown",
      "source": [
        "# **Training del modello e salvataggio delle prestazioni**"
      ],
      "metadata": {
        "id": "fyVloqP0MpIv"
      },
      "id": "fyVloqP0MpIv"
    },
    {
      "cell_type": "code",
      "execution_count": null,
      "id": "98d7d2b138a5574f",
      "metadata": {
        "colab": {
          "base_uri": "https://localhost:8080/"
        },
        "id": "98d7d2b138a5574f",
        "outputId": "e58142ba-01ce-4342-bd32-46f8e3160cea"
      },
      "outputs": [
        {
          "output_type": "stream",
          "name": "stderr",
          "text": [
            "\r  0%|          | 0/432 [00:00<?, ?it/s]"
          ]
        },
        {
          "output_type": "stream",
          "name": "stdout",
          "text": [
            "Epoch 1/4\n"
          ]
        },
        {
          "output_type": "stream",
          "name": "stderr",
          "text": [
            " 25%|██▌       | 108/432 [00:31<01:20,  4.01it/s]"
          ]
        },
        {
          "output_type": "stream",
          "name": "stdout",
          "text": [
            "Epoch 2/4\n"
          ]
        },
        {
          "output_type": "stream",
          "name": "stderr",
          "text": [
            " 50%|█████     | 216/432 [01:05<00:55,  3.89it/s]"
          ]
        },
        {
          "output_type": "stream",
          "name": "stdout",
          "text": [
            "Epoch 3/4\n"
          ]
        },
        {
          "output_type": "stream",
          "name": "stderr",
          "text": [
            " 75%|███████▌  | 324/432 [01:40<00:28,  3.78it/s]"
          ]
        },
        {
          "output_type": "stream",
          "name": "stdout",
          "text": [
            "Epoch 4/4\n"
          ]
        },
        {
          "output_type": "stream",
          "name": "stderr",
          "text": [
            "100%|██████████| 432/432 [02:15<00:00,  3.72it/s]"
          ]
        },
        {
          "output_type": "stream",
          "name": "stdout",
          "text": [
            "Test Accuracy: 0.7652\n"
          ]
        }
      ],
      "source": [
        "from tqdm import tqdm\n",
        "from sklearn.metrics import accuracy_score\n",
        "import matplotlib.pyplot as plt\n",
        "\n",
        "# Liste per salvare accuracies e loss\n",
        "train_accuracies = []\n",
        "val_accuracies = []\n",
        "train_losses = []\n",
        "val_losses = []\n",
        "\n",
        "progress_bar = tqdm(range(num_training_steps))\n",
        "\n",
        "for epoch in range(num_epochs):\n",
        "    print(f\"Epoch {epoch + 1}/{num_epochs}\")\n",
        "    model.train()\n",
        "\n",
        "    # Variabili per calcolare l'accuratezza e la loss durante il training\n",
        "    train_predictions = []\n",
        "    train_labels = []\n",
        "    epoch_train_loss = 0\n",
        "\n",
        "    for batch in train_dataloader:\n",
        "        input_ids = batch[\"input_ids\"].to(device)\n",
        "        attention_mask = batch[\"attention_mask\"].to(device)\n",
        "        labels = batch[\"label\"].to(device)\n",
        "\n",
        "        outputs = model(input_ids=input_ids, attention_mask=attention_mask, labels=labels)\n",
        "        loss = outputs.loss\n",
        "        logits = outputs.logits\n",
        "\n",
        "        predictions = torch.argmax(logits, dim=-1)\n",
        "        train_predictions.extend(predictions.cpu().numpy())\n",
        "        train_labels.extend(labels.cpu().numpy())\n",
        "\n",
        "        epoch_train_loss += loss.item()\n",
        "\n",
        "        loss.backward()\n",
        "        optimizer.step()\n",
        "        lr_scheduler.step()\n",
        "        optimizer.zero_grad()\n",
        "        progress_bar.update(1)\n",
        "\n",
        "    # Calcola e salva la media della loss e l'accuratezza per il training\n",
        "    train_losses.append(epoch_train_loss / len(train_dataloader))\n",
        "    train_accuracy = accuracy_score(train_labels, train_predictions)\n",
        "    train_accuracies.append(train_accuracy)\n",
        "\n",
        "    # Valutazione sul validation set\n",
        "    model.eval()\n",
        "    val_predictions = []\n",
        "    val_labels = []\n",
        "    epoch_val_loss = 0\n",
        "\n",
        "    with torch.no_grad():\n",
        "        for batch in val_dataloader:  # Usa il validation set\n",
        "            input_ids = batch[\"input_ids\"].to(device)\n",
        "            attention_mask = batch[\"attention_mask\"].to(device)\n",
        "            labels = batch[\"label\"].to(device)\n",
        "\n",
        "            outputs = model(input_ids=input_ids, attention_mask=attention_mask, labels=labels)\n",
        "            loss = outputs.loss\n",
        "            logits = outputs.logits\n",
        "\n",
        "            epoch_val_loss += loss.item()\n",
        "            predictions = torch.argmax(logits, dim=-1)\n",
        "            val_predictions.extend(predictions.cpu().numpy())\n",
        "            val_labels.extend(labels.cpu().numpy())\n",
        "\n",
        "    val_losses.append(epoch_val_loss / len(val_dataloader))\n",
        "    val_accuracy = accuracy_score(val_labels, val_predictions)\n",
        "    val_accuracies.append(val_accuracy)\n",
        "\n",
        "# Test finale (dopo il completamento di tutte le epoche)\n",
        "test_predictions = []\n",
        "test_labels = []\n",
        "model.eval()\n",
        "\n",
        "with torch.no_grad():\n",
        "    for batch in test_dataloader:\n",
        "        input_ids = batch[\"input_ids\"].to(device)\n",
        "        attention_mask = batch[\"attention_mask\"].to(device)\n",
        "        labels = batch[\"label\"].to(device)\n",
        "\n",
        "        outputs = model(input_ids=input_ids, attention_mask=attention_mask)\n",
        "        logits = outputs.logits\n",
        "\n",
        "        predictions = torch.argmax(logits, dim=-1)\n",
        "        test_predictions.extend(predictions.cpu().numpy())\n",
        "        test_labels.extend(labels.cpu().numpy())\n",
        "\n",
        "# Calcola e stampa l'accuratezza sul set di test\n",
        "test_accuracy = accuracy_score(test_labels, test_predictions)\n",
        "print(f\"Test Accuracy: {test_accuracy:.4f}\")"
      ]
    },
    {
      "cell_type": "markdown",
      "source": [
        "# **Modello Roberta** (pre-training più robusto)"
      ],
      "metadata": {
        "id": "_vfaoR81Plyb"
      },
      "id": "_vfaoR81Plyb"
    },
    {
      "cell_type": "code",
      "source": [
        "import torch\n",
        "from torch.utils.data import Dataset, DataLoader\n",
        "from transformers import RobertaTokenizer, RobertaForSequenceClassification, AdamW, get_scheduler\n",
        "from sklearn.metrics import accuracy_score\n",
        "from sklearn.model_selection import train_test_split\n",
        "from tqdm import tqdm\n",
        "import matplotlib.pyplot as plt\n",
        "\n",
        "# Classe per gestire i dati con PyTorch\n",
        "class SentimentDataset(Dataset):\n",
        "    def __init__(self, input_ids, attention_masks, labels):\n",
        "        self.input_ids = input_ids\n",
        "        self.attention_masks = attention_masks\n",
        "        self.labels = torch.tensor(labels.to_numpy(), dtype=torch.long)\n",
        "\n",
        "    def __len__(self):\n",
        "        return len(self.labels)\n",
        "\n",
        "    def __getitem__(self, idx):\n",
        "        return {\n",
        "            \"input_ids\": self.input_ids[idx],\n",
        "            \"attention_mask\": self.attention_masks[idx],\n",
        "            \"label\": self.labels[idx]\n",
        "        }\n",
        "\n",
        "# Funzione per preparare i dati\n",
        "def prepare_inputs(df, max_length, tokenizer):\n",
        "    input_ids = []\n",
        "    attention_masks = []\n",
        "    for title in df['Title']:\n",
        "        encoded = tokenizer.encode_plus(\n",
        "            title,\n",
        "            add_special_tokens=True,\n",
        "            max_length=max_length,\n",
        "            padding=\"max_length\",\n",
        "            truncation=True,\n",
        "            return_tensors=\"pt\"\n",
        "        )\n",
        "        input_ids.append(encoded['input_ids'])\n",
        "        attention_masks.append(encoded['attention_mask'])\n",
        "\n",
        "    input_ids = torch.cat(input_ids, dim=0)\n",
        "    attention_masks = torch.cat(attention_masks, dim=0)\n",
        "    return input_ids, attention_masks\n",
        "\n",
        "# Parametri iniziali\n",
        "max_length = 30\n",
        "batch_size = 64\n",
        "num_epochs = 4\n",
        "learning_rate = 1e-5\n",
        "\n",
        "# Tokenizer e modello\n",
        "tokenizer = RobertaTokenizer.from_pretrained(\"roberta-base\")\n",
        "model = RobertaForSequenceClassification.from_pretrained(\"roberta-base\", num_labels=3)\n",
        "\n",
        "# Prepara i dati\n",
        "input_ids, attention_masks = prepare_inputs(df_cleaned, max_length, tokenizer)\n",
        "\n",
        "# Dividi i dati in training (80%), validation (10%) e test (10%)\n",
        "y = df_cleaned['Sentiment']\n",
        "'''\n",
        "X_train_ids, X_temp_ids, X_train_masks, X_temp_masks, y_train, y_temp = train_test_split(\n",
        "    input_ids, attention_masks, y, test_size=0.2, random_state=42, stratify=y\n",
        ")\n",
        "X_val_ids, X_test_ids, X_val_masks, X_test_masks, y_val, y_test = train_test_split(\n",
        "    X_temp_ids, X_temp_masks, y_temp, test_size=0.5, random_state=42, stratify=y_temp\n",
        ")\n",
        "'''\n",
        "\n",
        "# Prima divisione: training e test\n",
        "X_train_ids, X_test_ids, X_train_masks, X_test_masks, y_train, y_test = train_test_split(\n",
        "    input_ids, attention_masks, y, test_size=0.2, random_state=42, stratify=y\n",
        ")\n",
        "\n",
        "# Seconda divisione: training e validation\n",
        "X_train_ids, X_val_ids, X_train_masks, X_val_masks, y_train, y_val = train_test_split(\n",
        "    X_train_ids, X_train_masks, y_train, test_size=0.2, random_state=42, stratify=y_train\n",
        ")\n",
        "\n",
        "# Mappa le etichette a valori numerici\n",
        "label_mapping = {\"negative\": 0, \"neutral\": 1, \"positive\": 2}\n",
        "y_train = y_train.map(label_mapping)\n",
        "y_val = y_val.map(label_mapping)\n",
        "y_test = y_test.map(label_mapping)\n",
        "\n",
        "# Dataset e DataLoader\n",
        "train_dataset = SentimentDataset(X_train_ids, X_train_masks, y_train)\n",
        "val_dataset = SentimentDataset(X_val_ids, X_val_masks, y_val)\n",
        "test_dataset = SentimentDataset(X_test_ids, X_test_masks, y_test)\n",
        "\n",
        "train_dataloader = DataLoader(train_dataset, batch_size=batch_size, shuffle=True)\n",
        "val_dataloader = DataLoader(val_dataset, batch_size=batch_size)\n",
        "test_dataloader = DataLoader(test_dataset, batch_size=batch_size)\n",
        "\n",
        "# Configura dispositivo e ottimizzatore\n",
        "device = torch.device(\"cuda\") if torch.cuda.is_available() else torch.device(\"cpu\")\n",
        "model.to(device)\n",
        "optimizer = AdamW(model.parameters(), lr=learning_rate)\n",
        "num_training_steps = len(train_dataloader) * num_epochs\n",
        "lr_scheduler = get_scheduler(\"linear\", optimizer=optimizer, num_warmup_steps=0, num_training_steps=num_training_steps)\n",
        "\n",
        "# Liste per accuracies e loss\n",
        "train_accuracies = []\n",
        "val_accuracies = []\n",
        "train_losses = []\n",
        "val_losses = []\n",
        "\n",
        "# Training loop\n",
        "progress_bar = tqdm(range(num_training_steps))\n",
        "\n",
        "for epoch in range(num_epochs):\n",
        "    print(f\"\\nEpoch {epoch + 1}/{num_epochs}\")\n",
        "    model.train()\n",
        "\n",
        "    # Variabili di supporto\n",
        "    train_predictions, train_labels = [], []\n",
        "    epoch_train_loss = 0\n",
        "\n",
        "    # Training\n",
        "    for batch in train_dataloader:\n",
        "        input_ids = batch[\"input_ids\"].to(device)\n",
        "        attention_mask = batch[\"attention_mask\"].to(device)\n",
        "        labels = batch[\"label\"].to(device)\n",
        "\n",
        "        outputs = model(input_ids=input_ids, attention_mask=attention_mask, labels=labels)\n",
        "        loss = outputs.loss\n",
        "        logits = outputs.logits\n",
        "\n",
        "        predictions = torch.argmax(logits, dim=-1)\n",
        "        train_predictions.extend(predictions.cpu().numpy())\n",
        "        train_labels.extend(labels.cpu().numpy())\n",
        "\n",
        "        epoch_train_loss += loss.item()\n",
        "\n",
        "        loss.backward()\n",
        "        optimizer.step()\n",
        "        lr_scheduler.step()\n",
        "        optimizer.zero_grad()\n",
        "        progress_bar.update(1)\n",
        "\n",
        "    # Calcola e salva metriche di training\n",
        "    train_losses.append(epoch_train_loss / len(train_dataloader))\n",
        "    train_accuracy = accuracy_score(train_labels, train_predictions)\n",
        "    train_accuracies.append(train_accuracy)\n",
        "\n",
        "    # Validazione\n",
        "    model.eval()\n",
        "    val_predictions, val_labels = [], []\n",
        "    epoch_val_loss = 0\n",
        "\n",
        "    with torch.no_grad():\n",
        "        for batch in val_dataloader:\n",
        "            input_ids = batch[\"input_ids\"].to(device)\n",
        "            attention_mask = batch[\"attention_mask\"].to(device)\n",
        "            labels = batch[\"label\"].to(device)\n",
        "\n",
        "            outputs = model(input_ids=input_ids, attention_mask=attention_mask, labels=labels)\n",
        "            loss = outputs.loss\n",
        "            logits = outputs.logits\n",
        "\n",
        "            epoch_val_loss += loss.item()\n",
        "            predictions = torch.argmax(logits, dim=-1)\n",
        "            val_predictions.extend(predictions.cpu().numpy())\n",
        "            val_labels.extend(labels.cpu().numpy())\n",
        "\n",
        "    # Calcola e salva metriche di validazione\n",
        "    val_losses.append(epoch_val_loss / len(val_dataloader))\n",
        "    val_accuracy = accuracy_score(val_labels, val_predictions)\n",
        "    val_accuracies.append(val_accuracy)\n",
        "\n",
        "# Test finale\n",
        "test_predictions, test_labels = [], []\n",
        "\n",
        "model.eval()\n",
        "with torch.no_grad():\n",
        "    for batch in test_dataloader:\n",
        "        input_ids = batch[\"input_ids\"].to(device)\n",
        "        attention_mask = batch[\"attention_mask\"].to(device)\n",
        "        labels = batch[\"label\"].to(device)\n",
        "\n",
        "        outputs = model(input_ids=input_ids, attention_mask=attention_mask)\n",
        "        logits = outputs.logits\n",
        "\n",
        "        predictions = torch.argmax(logits, dim=-1)\n",
        "        test_predictions.extend(predictions.cpu().numpy())\n",
        "        test_labels.extend(labels.cpu().numpy())\n",
        "\n",
        "# Calcola l'accuratezza sul set di test\n",
        "test_accuracy = accuracy_score(test_labels, test_predictions)\n",
        "print(f\"Test Accuracy: {test_accuracy:.4f}\")"
      ],
      "metadata": {
        "colab": {
          "base_uri": "https://localhost:8080/"
        },
        "id": "hpWfmITkP09X",
        "outputId": "2659e7f4-3d85-41e5-aeb9-f3660dff42b1"
      },
      "id": "hpWfmITkP09X",
      "execution_count": null,
      "outputs": [
        {
          "output_type": "stream",
          "name": "stderr",
          "text": [
            "/usr/local/lib/python3.10/dist-packages/huggingface_hub/utils/_auth.py:94: UserWarning: \n",
            "The secret `HF_TOKEN` does not exist in your Colab secrets.\n",
            "To authenticate with the Hugging Face Hub, create a token in your settings tab (https://huggingface.co/settings/tokens), set it as secret in your Google Colab and restart your session.\n",
            "You will be able to reuse this secret in all of your notebooks.\n",
            "Please note that authentication is recommended but still optional to access public models or datasets.\n",
            "  warnings.warn(\n",
            "Some weights of RobertaForSequenceClassification were not initialized from the model checkpoint at roberta-base and are newly initialized: ['classifier.dense.bias', 'classifier.dense.weight', 'classifier.out_proj.bias', 'classifier.out_proj.weight']\n",
            "You should probably TRAIN this model on a down-stream task to be able to use it for predictions and inference.\n",
            "/usr/local/lib/python3.10/dist-packages/transformers/optimization.py:591: FutureWarning: This implementation of AdamW is deprecated and will be removed in a future version. Use the PyTorch implementation torch.optim.AdamW instead, or set `no_deprecation_warning=True` to disable this warning\n",
            "  warnings.warn(\n",
            "  0%|          | 0/432 [00:00<?, ?it/s]"
          ]
        },
        {
          "output_type": "stream",
          "name": "stdout",
          "text": [
            "\n",
            "Epoch 1/4\n"
          ]
        },
        {
          "output_type": "stream",
          "name": "stderr",
          "text": [
            " 25%|██▌       | 108/432 [00:33<01:25,  3.78it/s]"
          ]
        },
        {
          "output_type": "stream",
          "name": "stdout",
          "text": [
            "\n",
            "Epoch 2/4\n"
          ]
        },
        {
          "output_type": "stream",
          "name": "stderr",
          "text": [
            " 50%|█████     | 216/432 [01:08<00:58,  3.66it/s]"
          ]
        },
        {
          "output_type": "stream",
          "name": "stdout",
          "text": [
            "\n",
            "Epoch 3/4\n"
          ]
        },
        {
          "output_type": "stream",
          "name": "stderr",
          "text": [
            " 75%|███████▌  | 324/432 [01:45<00:29,  3.61it/s]"
          ]
        },
        {
          "output_type": "stream",
          "name": "stdout",
          "text": [
            "\n",
            "Epoch 4/4\n"
          ]
        },
        {
          "output_type": "stream",
          "name": "stderr",
          "text": [
            "100%|██████████| 432/432 [02:22<00:00,  3.54it/s]"
          ]
        },
        {
          "output_type": "stream",
          "name": "stdout",
          "text": [
            "Test Accuracy: 0.7950\n"
          ]
        }
      ]
    },
    {
      "cell_type": "markdown",
      "source": [
        "# **Modello Finbert** (per informazioni finanziarie)"
      ],
      "metadata": {
        "id": "0VMOU1kBP1Np"
      },
      "id": "0VMOU1kBP1Np"
    },
    {
      "cell_type": "code",
      "source": [
        "import torch\n",
        "from torch.utils.data import Dataset, DataLoader\n",
        "from transformers import AutoTokenizer, AutoModelForSequenceClassification, AdamW, get_scheduler\n",
        "from sklearn.metrics import accuracy_score\n",
        "from sklearn.model_selection import train_test_split\n",
        "from tqdm import tqdm\n",
        "import matplotlib.pyplot as plt\n",
        "\n",
        "# Classe per gestire i dati con PyTorch\n",
        "class SentimentDataset(Dataset):\n",
        "    def __init__(self, input_ids, attention_masks, labels):\n",
        "        self.input_ids = input_ids\n",
        "        self.attention_masks = attention_masks\n",
        "        self.labels = torch.tensor(labels.to_numpy(), dtype=torch.long)\n",
        "\n",
        "    def __len__(self):\n",
        "        return len(self.labels)\n",
        "\n",
        "    def __getitem__(self, idx):\n",
        "        return {\n",
        "            \"input_ids\": self.input_ids[idx],\n",
        "            \"attention_mask\": self.attention_masks[idx],\n",
        "            \"label\": self.labels[idx]\n",
        "        }\n",
        "\n",
        "# Funzione per preparare i dati\n",
        "def prepare_inputs(df, max_length, tokenizer):\n",
        "    input_ids = []\n",
        "    attention_masks = []\n",
        "    for title in df['Title']:\n",
        "        encoded = tokenizer.encode_plus(\n",
        "            title,\n",
        "            add_special_tokens=True,\n",
        "            max_length=max_length,\n",
        "            padding=\"max_length\",\n",
        "            truncation=True,\n",
        "            return_tensors=\"pt\"\n",
        "        )\n",
        "        input_ids.append(encoded['input_ids'])\n",
        "        attention_masks.append(encoded['attention_mask'])\n",
        "\n",
        "    input_ids = torch.cat(input_ids, dim=0)\n",
        "    attention_masks = torch.cat(attention_masks, dim=0)\n",
        "    return input_ids, attention_masks\n",
        "\n",
        "# Parametri iniziali\n",
        "max_length = 30\n",
        "batch_size = 32\n",
        "num_epochs = 4\n",
        "learning_rate = 1e-5\n",
        "\n",
        "# Tokenizer e modello per FinBERT\n",
        "tokenizer = AutoTokenizer.from_pretrained(\"yiyanghkust/finbert-tone\")\n",
        "model = AutoModelForSequenceClassification.from_pretrained(\"yiyanghkust/finbert-tone\", num_labels=3)\n",
        "\n",
        "# Prepara i dati\n",
        "input_ids, attention_masks = prepare_inputs(df_cleaned, max_length, tokenizer)\n",
        "\n",
        "# Dividi i dati in training (80%), validation (10%) e test (10%)\n",
        "y = df_cleaned['Sentiment']\n",
        "\n",
        "'''\n",
        "X_train_ids, X_temp_ids, X_train_masks, X_temp_masks, y_train, y_temp = train_test_split(\n",
        "    input_ids, attention_masks, y, test_size=0.2, random_state=42, stratify=y\n",
        ")\n",
        "X_val_ids, X_test_ids, X_val_masks, X_test_masks, y_val, y_test = train_test_split(\n",
        "    X_temp_ids, X_temp_masks, y_temp, test_size=0.5, random_state=42, stratify=y_temp\n",
        ")\n",
        "'''\n",
        "\n",
        "# Prima divisione: training e test\n",
        "X_train_ids, X_test_ids, X_train_masks, X_test_masks, y_train, y_test = train_test_split(\n",
        "    input_ids, attention_masks, y, test_size=0.2, random_state=42, stratify=y\n",
        ")\n",
        "\n",
        "# Seconda divisione: training e validation\n",
        "X_train_ids, X_val_ids, X_train_masks, X_val_masks, y_train, y_val = train_test_split(\n",
        "    X_train_ids, X_train_masks, y_train, test_size=0.2, random_state=42, stratify=y_train\n",
        ")\n",
        "\n",
        "# Mappa le etichette a valori numerici\n",
        "label_mapping = {\"negative\": 0, \"neutral\": 1, \"positive\": 2}\n",
        "y_train = y_train.map(label_mapping)\n",
        "y_val = y_val.map(label_mapping)\n",
        "y_test = y_test.map(label_mapping)\n",
        "\n",
        "# Dataset e DataLoader\n",
        "train_dataset = SentimentDataset(X_train_ids, X_train_masks, y_train)\n",
        "val_dataset = SentimentDataset(X_val_ids, X_val_masks, y_val)\n",
        "test_dataset = SentimentDataset(X_test_ids, X_test_masks, y_test)\n",
        "\n",
        "train_dataloader = DataLoader(train_dataset, batch_size=batch_size, shuffle=True)\n",
        "val_dataloader = DataLoader(val_dataset, batch_size=batch_size)\n",
        "test_dataloader = DataLoader(test_dataset, batch_size=batch_size)\n",
        "\n",
        "# Configura dispositivo e ottimizzatore\n",
        "device = torch.device(\"cuda\") if torch.cuda.is_available() else torch.device(\"cpu\")\n",
        "model.to(device)\n",
        "optimizer = AdamW(model.parameters(), lr=learning_rate)\n",
        "num_training_steps = len(train_dataloader) * num_epochs\n",
        "lr_scheduler = get_scheduler(\"linear\", optimizer=optimizer, num_warmup_steps=0, num_training_steps=num_training_steps)\n",
        "\n",
        "# Liste per accuracies e loss\n",
        "train_accuracies = []\n",
        "val_accuracies = []\n",
        "train_losses = []\n",
        "val_losses = []\n",
        "\n",
        "# Training loop\n",
        "progress_bar = tqdm(range(num_training_steps))\n",
        "\n",
        "for epoch in range(num_epochs):\n",
        "    print(f\"\\nEpoch {epoch + 1}/{num_epochs}\")\n",
        "    model.train()\n",
        "\n",
        "    # Variabili di supporto\n",
        "    train_predictions, train_labels = [], []\n",
        "    epoch_train_loss = 0\n",
        "\n",
        "    # Training\n",
        "    for batch in train_dataloader:\n",
        "        input_ids = batch[\"input_ids\"].to(device)\n",
        "        attention_mask = batch[\"attention_mask\"].to(device)\n",
        "        labels = batch[\"label\"].to(device)\n",
        "\n",
        "        outputs = model(input_ids=input_ids, attention_mask=attention_mask, labels=labels)\n",
        "        loss = outputs.loss\n",
        "        logits = outputs.logits\n",
        "\n",
        "        predictions = torch.argmax(logits, dim=-1)\n",
        "        train_predictions.extend(predictions.cpu().numpy())\n",
        "        train_labels.extend(labels.cpu().numpy())\n",
        "\n",
        "        epoch_train_loss += loss.item()\n",
        "\n",
        "        loss.backward()\n",
        "        optimizer.step()\n",
        "        lr_scheduler.step()\n",
        "        optimizer.zero_grad()\n",
        "        progress_bar.update(1)\n",
        "\n",
        "    # Calcola e salva metriche di training\n",
        "    train_losses.append(epoch_train_loss / len(train_dataloader))\n",
        "    train_accuracy = accuracy_score(train_labels, train_predictions)\n",
        "    train_accuracies.append(train_accuracy)\n",
        "\n",
        "    # Validazione\n",
        "    model.eval()\n",
        "    val_predictions, val_labels = [], []\n",
        "    epoch_val_loss = 0\n",
        "\n",
        "    with torch.no_grad():\n",
        "        for batch in val_dataloader:\n",
        "            input_ids = batch[\"input_ids\"].to(device)\n",
        "            attention_mask = batch[\"attention_mask\"].to(device)\n",
        "            labels = batch[\"label\"].to(device)\n",
        "\n",
        "            outputs = model(input_ids=input_ids, attention_mask=attention_mask, labels=labels)\n",
        "            loss = outputs.loss\n",
        "            logits = outputs.logits\n",
        "\n",
        "            epoch_val_loss += loss.item()\n",
        "            predictions = torch.argmax(logits, dim=-1)\n",
        "            val_predictions.extend(predictions.cpu().numpy())\n",
        "            val_labels.extend(labels.cpu().numpy())\n",
        "\n",
        "    # Calcola e salva metriche di validazione\n",
        "    val_losses.append(epoch_val_loss / len(val_dataloader))\n",
        "    val_accuracy = accuracy_score(val_labels, val_predictions)\n",
        "    val_accuracies.append(val_accuracy)\n",
        "\n",
        "# Test finale\n",
        "test_predictions, test_labels = [], []\n",
        "\n",
        "model.eval()\n",
        "with torch.no_grad():\n",
        "    for batch in test_dataloader:\n",
        "        input_ids = batch[\"input_ids\"].to(device)\n",
        "        attention_mask = batch[\"attention_mask\"].to(device)\n",
        "        labels = batch[\"label\"].to(device)\n",
        "\n",
        "        outputs = model(input_ids=input_ids, attention_mask=attention_mask)\n",
        "        logits = outputs.logits\n",
        "\n",
        "        predictions = torch.argmax(logits, dim=-1)\n",
        "        test_predictions.extend(predictions.cpu().numpy())\n",
        "        test_labels.extend(labels.cpu().numpy())\n",
        "\n",
        "# Calcola l'accuratezza sul set di test\n",
        "test_accuracy = accuracy_score(test_labels, test_predictions)\n",
        "print(f\"Test Accuracy: {test_accuracy:.4f}\")"
      ],
      "metadata": {
        "colab": {
          "base_uri": "https://localhost:8080/"
        },
        "id": "EmGR9KIvQDmA",
        "outputId": "34bfd29b-500a-4f71-e6cf-f721b4e58983"
      },
      "id": "EmGR9KIvQDmA",
      "execution_count": null,
      "outputs": [
        {
          "output_type": "stream",
          "name": "stderr",
          "text": [
            "/usr/local/lib/python3.10/dist-packages/huggingface_hub/utils/_auth.py:94: UserWarning: \n",
            "The secret `HF_TOKEN` does not exist in your Colab secrets.\n",
            "To authenticate with the Hugging Face Hub, create a token in your settings tab (https://huggingface.co/settings/tokens), set it as secret in your Google Colab and restart your session.\n",
            "You will be able to reuse this secret in all of your notebooks.\n",
            "Please note that authentication is recommended but still optional to access public models or datasets.\n",
            "  warnings.warn(\n",
            "/usr/local/lib/python3.10/dist-packages/transformers/optimization.py:591: FutureWarning: This implementation of AdamW is deprecated and will be removed in a future version. Use the PyTorch implementation torch.optim.AdamW instead, or set `no_deprecation_warning=True` to disable this warning\n",
            "  warnings.warn(\n",
            "  0%|          | 0/864 [00:00<?, ?it/s]"
          ]
        },
        {
          "output_type": "stream",
          "name": "stdout",
          "text": [
            "\n",
            "Epoch 1/4\n"
          ]
        },
        {
          "output_type": "stream",
          "name": "stderr",
          "text": [
            " 25%|██▌       | 217/864 [00:39<08:56,  1.21it/s]"
          ]
        },
        {
          "output_type": "stream",
          "name": "stdout",
          "text": [
            "\n",
            "Epoch 2/4\n"
          ]
        },
        {
          "output_type": "stream",
          "name": "stderr",
          "text": [
            " 50%|█████     | 433/864 [01:20<06:05,  1.18it/s]"
          ]
        },
        {
          "output_type": "stream",
          "name": "stdout",
          "text": [
            "\n",
            "Epoch 3/4\n"
          ]
        },
        {
          "output_type": "stream",
          "name": "stderr",
          "text": [
            " 75%|███████▌  | 649/864 [02:01<03:04,  1.16it/s]"
          ]
        },
        {
          "output_type": "stream",
          "name": "stdout",
          "text": [
            "\n",
            "Epoch 4/4\n"
          ]
        },
        {
          "output_type": "stream",
          "name": "stderr",
          "text": [
            "100%|█████████▉| 863/864 [02:39<00:00,  5.56it/s]"
          ]
        },
        {
          "output_type": "stream",
          "name": "stdout",
          "text": [
            "Test Accuracy: 0.7555\n"
          ]
        }
      ]
    },
    {
      "cell_type": "markdown",
      "source": [
        "# **Plot delle performance di training e matrice di confusione sul test set**"
      ],
      "metadata": {
        "id": "vcqzPZGLOLp_"
      },
      "id": "vcqzPZGLOLp_"
    },
    {
      "cell_type": "code",
      "execution_count": null,
      "id": "d1173cfbcc01217e",
      "metadata": {
        "colab": {
          "base_uri": "https://localhost:8080/",
          "height": 1000
        },
        "id": "d1173cfbcc01217e",
        "outputId": "a5edb489-d173-4255-c516-81c939df8e79"
      },
      "outputs": [
        {
          "output_type": "display_data",
          "data": {
            "text/plain": [
              "<Figure size 1000x600 with 1 Axes>"
            ],
            "image/png": "[encoded data removed]"
          },
          "metadata": {}
        },
        {
          "output_type": "display_data",
          "data": {
            "text/plain": [
              "<Figure size 1000x600 with 1 Axes>"
            ],
            "image/png": "[encoded data removed]"
          },
          "metadata": {}
        },
        {
          "output_type": "stream",
          "name": "stdout",
          "text": [
            "Test Accuracy: 0.7950\n"
          ]
        },
        {
          "output_type": "display_data",
          "data": {
            "text/plain": [
              "<Figure size 640x480 with 2 Axes>"
            ],
            "image/png": "[encoded data removed]"
          },
          "metadata": {}
        }
      ],
      "source": [
        "from sklearn.metrics import confusion_matrix, ConfusionMatrixDisplay\n",
        "\n",
        "# Plot delle accuratezze\n",
        "plt.figure(figsize=(10, 6))\n",
        "plt.plot(range(1, num_epochs + 1), train_accuracies, label='Train Accuracy')\n",
        "plt.plot(range(1, num_epochs + 1), val_accuracies, label='Validation Accuracy')\n",
        "plt.xlabel('Epochs')\n",
        "plt.ylabel('Accuracy')\n",
        "plt.title('Train and Validation Accuracy per Epoch')\n",
        "plt.legend()\n",
        "plt.grid()\n",
        "plt.show()\n",
        "\n",
        "# Plot delle loss\n",
        "plt.figure(figsize=(10, 6))\n",
        "plt.plot(range(1, num_epochs + 1), train_losses, label='Train Loss')\n",
        "plt.plot(range(1, num_epochs + 1), val_losses, label='Validation Loss')\n",
        "plt.xlabel('Epochs')\n",
        "plt.ylabel('Loss')\n",
        "plt.title('Train and Validation Loss per Epoch')\n",
        "plt.legend()\n",
        "plt.grid()\n",
        "plt.show()\n",
        "\n",
        "# Calcola l'accuratezza finale sul set di test\n",
        "test_accuracy = accuracy_score(test_labels, test_predictions)\n",
        "print(f\"Test Accuracy: {test_accuracy:.4f}\")\n",
        "\n",
        "# Matrice di confusione finale\n",
        "cm_final = confusion_matrix(val_labels, val_predictions, labels=[0, 1, 2])\n",
        "disp_final = ConfusionMatrixDisplay(confusion_matrix=cm_final, display_labels=[\"negative\", \"neutral\", \"positive\"])\n",
        "disp_final.plot(cmap=plt.cm.Blues)\n",
        "plt.title(\"Confusion Matrix - Final Test\")\n",
        "plt.show()"
      ]
    }
  ],
  "metadata": {
    "accelerator": "GPU",
    "colab": {
      "gpuType": "T4",
      "provenance": [],
      "include_colab_link": true
    },
    "kernelspec": {
      "display_name": "Python 3",
      "name": "python3"
    },
    "language_info": {
      "codemirror_mode": {
        "name": "ipython",
        "version": 2
      },
      "file_extension": ".py",
      "mimetype": "text/x-python",
      "name": "python",
      "nbconvert_exporter": "python",
      "pygments_lexer": "ipython2",
      "version": "2.7.6"
    },
    "widgets": {
      "application/vnd.jupyter.widget-state+json": {
        "9001445a8837409ab9c3532bb7716310": {
          "model_module": "@jupyter-widgets/controls",
          "model_name": "HBoxModel",
          "model_module_version": "1.5.0",
          "state": {
            "_dom_classes": [],
            "_model_module": "@jupyter-widgets/controls",
            "_model_module_version": "1.5.0",
            "_model_name": "HBoxModel",
            "_view_count": null,
            "_view_module": "@jupyter-widgets/controls",
            "_view_module_version": "1.5.0",
            "_view_name": "HBoxView",
            "box_style": "",
            "children": [
              "IPY_MODEL_3e97e1cd77bd43969ac2009dd6dd8942",
              "IPY_MODEL_682a9c07998f494bbb93345d3103bfdf",
              "IPY_MODEL_e7c3534628a2453da45635ed1b367b3f"
            ],
            "layout": "IPY_MODEL_e73d213d8d684ac39435e1fc31612876"
          }
        },
        "3e97e1cd77bd43969ac2009dd6dd8942": {
          "model_module": "@jupyter-widgets/controls",
          "model_name": "HTMLModel",
          "model_module_version": "1.5.0",
          "state": {
            "_dom_classes": [],
            "_model_module": "@jupyter-widgets/controls",
            "_model_module_version": "1.5.0",
            "_model_name": "HTMLModel",
            "_view_count": null,
            "_view_module": "@jupyter-widgets/controls",
            "_view_module_version": "1.5.0",
            "_view_name": "HTMLView",
            "description": "",
            "description_tooltip": null,
            "layout": "IPY_MODEL_e7afc549c69f45c2874465aca93c8799",
            "placeholder": "​",
            "style": "IPY_MODEL_7e2023e9416a4383918216ac70c51acf",
            "value": "model.safetensors: 100%"
          }
        },
        "682a9c07998f494bbb93345d3103bfdf": {
          "model_module": "@jupyter-widgets/controls",
          "model_name": "FloatProgressModel",
          "model_module_version": "1.5.0",
          "state": {
            "_dom_classes": [],
            "_model_module": "@jupyter-widgets/controls",
            "_model_module_version": "1.5.0",
            "_model_name": "FloatProgressModel",
            "_view_count": null,
            "_view_module": "@jupyter-widgets/controls",
            "_view_module_version": "1.5.0",
            "_view_name": "ProgressView",
            "bar_style": "success",
            "description": "",
            "description_tooltip": null,
            "layout": "IPY_MODEL_dfb8af3c543b4bd793fde2c02ecdefc6",
            "max": 440449768,
            "min": 0,
            "orientation": "horizontal",
            "style": "IPY_MODEL_48ff996e279840d983f3aa98a207b7f3",
            "value": 440449768
          }
        },
        "e7c3534628a2453da45635ed1b367b3f": {
          "model_module": "@jupyter-widgets/controls",
          "model_name": "HTMLModel",
          "model_module_version": "1.5.0",
          "state": {
            "_dom_classes": [],
            "_model_module": "@jupyter-widgets/controls",
            "_model_module_version": "1.5.0",
            "_model_name": "HTMLModel",
            "_view_count": null,
            "_view_module": "@jupyter-widgets/controls",
            "_view_module_version": "1.5.0",
            "_view_name": "HTMLView",
            "description": "",
            "description_tooltip": null,
            "layout": "IPY_MODEL_3b85537a69bc4733a734fb1d1a0159d1",
            "placeholder": "​",
            "style": "IPY_MODEL_16f4dff8028a439691c566af4c4286fd",
            "value": " 440M/440M [00:02&lt;00:00, 191MB/s]"
          }
        },
        "e73d213d8d684ac39435e1fc31612876": {
          "model_module": "@jupyter-widgets/base",
          "model_name": "LayoutModel",
          "model_module_version": "1.2.0",
          "state": {
            "_model_module": "@jupyter-widgets/base",
            "_model_module_version": "1.2.0",
            "_model_name": "LayoutModel",
            "_view_count": null,
            "_view_module": "@jupyter-widgets/base",
            "_view_module_version": "1.2.0",
            "_view_name": "LayoutView",
            "align_content": null,
            "align_items": null,
            "align_self": null,
            "border": null,
            "bottom": null,
            "display": null,
            "flex": null,
            "flex_flow": null,
            "grid_area": null,
            "grid_auto_columns": null,
            "grid_auto_flow": null,
            "grid_auto_rows": null,
            "grid_column": null,
            "grid_gap": null,
            "grid_row": null,
            "grid_template_areas": null,
            "grid_template_columns": null,
            "grid_template_rows": null,
            "height": null,
            "justify_content": null,
            "justify_items": null,
            "left": null,
            "margin": null,
            "max_height": null,
            "max_width": null,
            "min_height": null,
            "min_width": null,
            "object_fit": null,
            "object_position": null,
            "order": null,
            "overflow": null,
            "overflow_x": null,
            "overflow_y": null,
            "padding": null,
            "right": null,
            "top": null,
            "visibility": null,
            "width": null
          }
        },
        "e7afc549c69f45c2874465aca93c8799": {
          "model_module": "@jupyter-widgets/base",
          "model_name": "LayoutModel",
          "model_module_version": "1.2.0",
          "state": {
            "_model_module": "@jupyter-widgets/base",
            "_model_module_version": "1.2.0",
            "_model_name": "LayoutModel",
            "_view_count": null,
            "_view_module": "@jupyter-widgets/base",
            "_view_module_version": "1.2.0",
            "_view_name": "LayoutView",
            "align_content": null,
            "align_items": null,
            "align_self": null,
            "border": null,
            "bottom": null,
            "display": null,
            "flex": null,
            "flex_flow": null,
            "grid_area": null,
            "grid_auto_columns": null,
            "grid_auto_flow": null,
            "grid_auto_rows": null,
            "grid_column": null,
            "grid_gap": null,
            "grid_row": null,
            "grid_template_areas": null,
            "grid_template_columns": null,
            "grid_template_rows": null,
            "height": null,
            "justify_content": null,
            "justify_items": null,
            "left": null,
            "margin": null,
            "max_height": null,
            "max_width": null,
            "min_height": null,
            "min_width": null,
            "object_fit": null,
            "object_position": null,
            "order": null,
            "overflow": null,
            "overflow_x": null,
            "overflow_y": null,
            "padding": null,
            "right": null,
            "top": null,
            "visibility": null,
            "width": null
          }
        },
        "7e2023e9416a4383918216ac70c51acf": {
          "model_module": "@jupyter-widgets/controls",
          "model_name": "DescriptionStyleModel",
          "model_module_version": "1.5.0",
          "state": {
            "_model_module": "@jupyter-widgets/controls",
            "_model_module_version": "1.5.0",
            "_model_name": "DescriptionStyleModel",
            "_view_count": null,
            "_view_module": "@jupyter-widgets/base",
            "_view_module_version": "1.2.0",
            "_view_name": "StyleView",
            "description_width": ""
          }
        },
        "dfb8af3c543b4bd793fde2c02ecdefc6": {
          "model_module": "@jupyter-widgets/base",
          "model_name": "LayoutModel",
          "model_module_version": "1.2.0",
          "state": {
            "_model_module": "@jupyter-widgets/base",
            "_model_module_version": "1.2.0",
            "_model_name": "LayoutModel",
            "_view_count": null,
            "_view_module": "@jupyter-widgets/base",
            "_view_module_version": "1.2.0",
            "_view_name": "LayoutView",
            "align_content": null,
            "align_items": null,
            "align_self": null,
            "border": null,
            "bottom": null,
            "display": null,
            "flex": null,
            "flex_flow": null,
            "grid_area": null,
            "grid_auto_columns": null,
            "grid_auto_flow": null,
            "grid_auto_rows": null,
            "grid_column": null,
            "grid_gap": null,
            "grid_row": null,
            "grid_template_areas": null,
            "grid_template_columns": null,
            "grid_template_rows": null,
            "height": null,
            "justify_content": null,
            "justify_items": null,
            "left": null,
            "margin": null,
            "max_height": null,
            "max_width": null,
            "min_height": null,
            "min_width": null,
            "object_fit": null,
            "object_position": null,
            "order": null,
            "overflow": null,
            "overflow_x": null,
            "overflow_y": null,
            "padding": null,
            "right": null,
            "top": null,
            "visibility": null,
            "width": null
          }
        },
        "48ff996e279840d983f3aa98a207b7f3": {
          "model_module": "@jupyter-widgets/controls",
          "model_name": "ProgressStyleModel",
          "model_module_version": "1.5.0",
          "state": {
            "_model_module": "@jupyter-widgets/controls",
            "_model_module_version": "1.5.0",
            "_model_name": "ProgressStyleModel",
            "_view_count": null,
            "_view_module": "@jupyter-widgets/base",
            "_view_module_version": "1.2.0",
            "_view_name": "StyleView",
            "bar_color": null,
            "description_width": ""
          }
        },
        "3b85537a69bc4733a734fb1d1a0159d1": {
          "model_module": "@jupyter-widgets/base",
          "model_name": "LayoutModel",
          "model_module_version": "1.2.0",
          "state": {
            "_model_module": "@jupyter-widgets/base",
            "_model_module_version": "1.2.0",
            "_model_name": "LayoutModel",
            "_view_count": null,
            "_view_module": "@jupyter-widgets/base",
            "_view_module_version": "1.2.0",
            "_view_name": "LayoutView",
            "align_content": null,
            "align_items": null,
            "align_self": null,
            "border": null,
            "bottom": null,
            "display": null,
            "flex": null,
            "flex_flow": null,
            "grid_area": null,
            "grid_auto_columns": null,
            "grid_auto_flow": null,
            "grid_auto_rows": null,
            "grid_column": null,
            "grid_gap": null,
            "grid_row": null,
            "grid_template_areas": null,
            "grid_template_columns": null,
            "grid_template_rows": null,
            "height": null,
            "justify_content": null,
            "justify_items": null,
            "left": null,
            "margin": null,
            "max_height": null,
            "max_width": null,
            "min_height": null,
            "min_width": null,
            "object_fit": null,
            "object_position": null,
            "order": null,
            "overflow": null,
            "overflow_x": null,
            "overflow_y": null,
            "padding": null,
            "right": null,
            "top": null,
            "visibility": null,
            "width": null
          }
        },
        "16f4dff8028a439691c566af4c4286fd": {
          "model_module": "@jupyter-widgets/controls",
          "model_name": "DescriptionStyleModel",
          "model_module_version": "1.5.0",
          "state": {
            "_model_module": "@jupyter-widgets/controls",
            "_model_module_version": "1.5.0",
            "_model_name": "DescriptionStyleModel",
            "_view_count": null,
            "_view_module": "@jupyter-widgets/base",
            "_view_module_version": "1.2.0",
            "_view_name": "StyleView",
            "description_width": ""
          }
        }
      }
    }
  },
  "nbformat": 4,
  "nbformat_minor": 5
}