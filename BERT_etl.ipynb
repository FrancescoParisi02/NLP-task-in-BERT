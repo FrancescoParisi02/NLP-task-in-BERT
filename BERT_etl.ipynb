{
  "cells": [
    {
      "cell_type": "markdown",
      "metadata": {
        "id": "view-in-github",
        "colab_type": "text"
      },
      "source": [
        "<a href=\"https://colab.research.google.com/github/FrancescoParisi02/NLP-task-in-BERT/blob/main/BERT_etl.ipynb\" target=\"_parent\"><img src=\"https://colab.research.google.com/assets/colab-badge.svg\" alt=\"Open In Colab\"/></a>"
      ]
    },
    {
      "cell_type": "code",
      "execution_count": null,
      "id": "c8b2276284bf1716",
      "metadata": {
        "colab": {
          "base_uri": "https://localhost:8080/"
        },
        "id": "c8b2276284bf1716",
        "outputId": "0b8420a4-3be1-497b-e9fa-85835b3ca632"
      },
      "outputs": [
        {
          "output_type": "stream",
          "name": "stdout",
          "text": [
            "Requirement already satisfied: kagglehub in /usr/local/lib/python3.10/dist-packages (0.3.4)\n",
            "Requirement already satisfied: packaging in /usr/local/lib/python3.10/dist-packages (from kagglehub) (24.2)\n",
            "Requirement already satisfied: requests in /usr/local/lib/python3.10/dist-packages (from kagglehub) (2.32.3)\n",
            "Requirement already satisfied: tqdm in /usr/local/lib/python3.10/dist-packages (from kagglehub) (4.66.6)\n",
            "Requirement already satisfied: charset-normalizer<4,>=2 in /usr/local/lib/python3.10/dist-packages (from requests->kagglehub) (3.4.0)\n",
            "Requirement already satisfied: idna<4,>=2.5 in /usr/local/lib/python3.10/dist-packages (from requests->kagglehub) (3.10)\n",
            "Requirement already satisfied: urllib3<3,>=1.21.1 in /usr/local/lib/python3.10/dist-packages (from requests->kagglehub) (2.2.3)\n",
            "Requirement already satisfied: certifi>=2017.4.17 in /usr/local/lib/python3.10/dist-packages (from requests->kagglehub) (2024.8.30)\n",
            "Requirement already satisfied: pandas in /usr/local/lib/python3.10/dist-packages (2.2.2)\n",
            "Requirement already satisfied: numpy>=1.22.4 in /usr/local/lib/python3.10/dist-packages (from pandas) (1.26.4)\n",
            "Requirement already satisfied: python-dateutil>=2.8.2 in /usr/local/lib/python3.10/dist-packages (from pandas) (2.8.2)\n",
            "Requirement already satisfied: pytz>=2020.1 in /usr/local/lib/python3.10/dist-packages (from pandas) (2024.2)\n",
            "Requirement already satisfied: tzdata>=2022.7 in /usr/local/lib/python3.10/dist-packages (from pandas) (2024.2)\n",
            "Requirement already satisfied: six>=1.5 in /usr/local/lib/python3.10/dist-packages (from python-dateutil>=2.8.2->pandas) (1.16.0)\n",
            "Requirement already satisfied: nltk in /usr/local/lib/python3.10/dist-packages (3.9.1)\n",
            "Requirement already satisfied: click in /usr/local/lib/python3.10/dist-packages (from nltk) (8.1.7)\n",
            "Requirement already satisfied: joblib in /usr/local/lib/python3.10/dist-packages (from nltk) (1.4.2)\n",
            "Requirement already satisfied: regex>=2021.8.3 in /usr/local/lib/python3.10/dist-packages (from nltk) (2024.9.11)\n",
            "Requirement already satisfied: tqdm in /usr/local/lib/python3.10/dist-packages (from nltk) (4.66.6)\n",
            "Requirement already satisfied: scikit-learn in /usr/local/lib/python3.10/dist-packages (1.5.2)\n",
            "Requirement already satisfied: numpy>=1.19.5 in /usr/local/lib/python3.10/dist-packages (from scikit-learn) (1.26.4)\n",
            "Requirement already satisfied: scipy>=1.6.0 in /usr/local/lib/python3.10/dist-packages (from scikit-learn) (1.13.1)\n",
            "Requirement already satisfied: joblib>=1.2.0 in /usr/local/lib/python3.10/dist-packages (from scikit-learn) (1.4.2)\n",
            "Requirement already satisfied: threadpoolctl>=3.1.0 in /usr/local/lib/python3.10/dist-packages (from scikit-learn) (3.5.0)\n",
            "Requirement already satisfied: transformers in /usr/local/lib/python3.10/dist-packages (4.46.2)\n",
            "Requirement already satisfied: filelock in /usr/local/lib/python3.10/dist-packages (from transformers) (3.16.1)\n",
            "Requirement already satisfied: huggingface-hub<1.0,>=0.23.2 in /usr/local/lib/python3.10/dist-packages (from transformers) (0.26.2)\n",
            "Requirement already satisfied: numpy>=1.17 in /usr/local/lib/python3.10/dist-packages (from transformers) (1.26.4)\n",
            "Requirement already satisfied: packaging>=20.0 in /usr/local/lib/python3.10/dist-packages (from transformers) (24.2)\n",
            "Requirement already satisfied: pyyaml>=5.1 in /usr/local/lib/python3.10/dist-packages (from transformers) (6.0.2)\n",
            "Requirement already satisfied: regex!=2019.12.17 in /usr/local/lib/python3.10/dist-packages (from transformers) (2024.9.11)\n",
            "Requirement already satisfied: requests in /usr/local/lib/python3.10/dist-packages (from transformers) (2.32.3)\n",
            "Requirement already satisfied: safetensors>=0.4.1 in /usr/local/lib/python3.10/dist-packages (from transformers) (0.4.5)\n",
            "Requirement already satisfied: tokenizers<0.21,>=0.20 in /usr/local/lib/python3.10/dist-packages (from transformers) (0.20.3)\n",
            "Requirement already satisfied: tqdm>=4.27 in /usr/local/lib/python3.10/dist-packages (from transformers) (4.66.6)\n",
            "Requirement already satisfied: fsspec>=2023.5.0 in /usr/local/lib/python3.10/dist-packages (from huggingface-hub<1.0,>=0.23.2->transformers) (2024.10.0)\n",
            "Requirement already satisfied: typing-extensions>=3.7.4.3 in /usr/local/lib/python3.10/dist-packages (from huggingface-hub<1.0,>=0.23.2->transformers) (4.12.2)\n",
            "Requirement already satisfied: charset-normalizer<4,>=2 in /usr/local/lib/python3.10/dist-packages (from requests->transformers) (3.4.0)\n",
            "Requirement already satisfied: idna<4,>=2.5 in /usr/local/lib/python3.10/dist-packages (from requests->transformers) (3.10)\n",
            "Requirement already satisfied: urllib3<3,>=1.21.1 in /usr/local/lib/python3.10/dist-packages (from requests->transformers) (2.2.3)\n",
            "Requirement already satisfied: certifi>=2017.4.17 in /usr/local/lib/python3.10/dist-packages (from requests->transformers) (2024.8.30)\n",
            "Requirement already satisfied: torch in /usr/local/lib/python3.10/dist-packages (2.5.1+cu121)\n",
            "Requirement already satisfied: filelock in /usr/local/lib/python3.10/dist-packages (from torch) (3.16.1)\n",
            "Requirement already satisfied: typing-extensions>=4.8.0 in /usr/local/lib/python3.10/dist-packages (from torch) (4.12.2)\n",
            "Requirement already satisfied: networkx in /usr/local/lib/python3.10/dist-packages (from torch) (3.4.2)\n",
            "Requirement already satisfied: jinja2 in /usr/local/lib/python3.10/dist-packages (from torch) (3.1.4)\n",
            "Requirement already satisfied: fsspec in /usr/local/lib/python3.10/dist-packages (from torch) (2024.10.0)\n",
            "Requirement already satisfied: sympy==1.13.1 in /usr/local/lib/python3.10/dist-packages (from torch) (1.13.1)\n",
            "Requirement already satisfied: mpmath<1.4,>=1.1.0 in /usr/local/lib/python3.10/dist-packages (from sympy==1.13.1->torch) (1.3.0)\n",
            "Requirement already satisfied: MarkupSafe>=2.0 in /usr/local/lib/python3.10/dist-packages (from jinja2->torch) (3.0.2)\n",
            "Requirement already satisfied: seaborn in /usr/local/lib/python3.10/dist-packages (0.13.2)\n",
            "Requirement already satisfied: numpy!=1.24.0,>=1.20 in /usr/local/lib/python3.10/dist-packages (from seaborn) (1.26.4)\n",
            "Requirement already satisfied: pandas>=1.2 in /usr/local/lib/python3.10/dist-packages (from seaborn) (2.2.2)\n",
            "Requirement already satisfied: matplotlib!=3.6.1,>=3.4 in /usr/local/lib/python3.10/dist-packages (from seaborn) (3.8.0)\n",
            "Requirement already satisfied: contourpy>=1.0.1 in /usr/local/lib/python3.10/dist-packages (from matplotlib!=3.6.1,>=3.4->seaborn) (1.3.1)\n",
            "Requirement already satisfied: cycler>=0.10 in /usr/local/lib/python3.10/dist-packages (from matplotlib!=3.6.1,>=3.4->seaborn) (0.12.1)\n",
            "Requirement already satisfied: fonttools>=4.22.0 in /usr/local/lib/python3.10/dist-packages (from matplotlib!=3.6.1,>=3.4->seaborn) (4.55.0)\n",
            "Requirement already satisfied: kiwisolver>=1.0.1 in /usr/local/lib/python3.10/dist-packages (from matplotlib!=3.6.1,>=3.4->seaborn) (1.4.7)\n",
            "Requirement already satisfied: packaging>=20.0 in /usr/local/lib/python3.10/dist-packages (from matplotlib!=3.6.1,>=3.4->seaborn) (24.2)\n",
            "Requirement already satisfied: pillow>=6.2.0 in /usr/local/lib/python3.10/dist-packages (from matplotlib!=3.6.1,>=3.4->seaborn) (11.0.0)\n",
            "Requirement already satisfied: pyparsing>=2.3.1 in /usr/local/lib/python3.10/dist-packages (from matplotlib!=3.6.1,>=3.4->seaborn) (3.2.0)\n",
            "Requirement already satisfied: python-dateutil>=2.7 in /usr/local/lib/python3.10/dist-packages (from matplotlib!=3.6.1,>=3.4->seaborn) (2.8.2)\n",
            "Requirement already satisfied: pytz>=2020.1 in /usr/local/lib/python3.10/dist-packages (from pandas>=1.2->seaborn) (2024.2)\n",
            "Requirement already satisfied: tzdata>=2022.7 in /usr/local/lib/python3.10/dist-packages (from pandas>=1.2->seaborn) (2024.2)\n",
            "Requirement already satisfied: six>=1.5 in /usr/local/lib/python3.10/dist-packages (from python-dateutil>=2.7->matplotlib!=3.6.1,>=3.4->seaborn) (1.16.0)\n",
            "Requirement already satisfied: tqdm in /usr/local/lib/python3.10/dist-packages (4.66.6)\n",
            "Requirement already satisfied: matplotlib in /usr/local/lib/python3.10/dist-packages (3.8.0)\n",
            "Requirement already satisfied: contourpy>=1.0.1 in /usr/local/lib/python3.10/dist-packages (from matplotlib) (1.3.1)\n",
            "Requirement already satisfied: cycler>=0.10 in /usr/local/lib/python3.10/dist-packages (from matplotlib) (0.12.1)\n",
            "Requirement already satisfied: fonttools>=4.22.0 in /usr/local/lib/python3.10/dist-packages (from matplotlib) (4.55.0)\n",
            "Requirement already satisfied: kiwisolver>=1.0.1 in /usr/local/lib/python3.10/dist-packages (from matplotlib) (1.4.7)\n",
            "Requirement already satisfied: numpy<2,>=1.21 in /usr/local/lib/python3.10/dist-packages (from matplotlib) (1.26.4)\n",
            "Requirement already satisfied: packaging>=20.0 in /usr/local/lib/python3.10/dist-packages (from matplotlib) (24.2)\n",
            "Requirement already satisfied: pillow>=6.2.0 in /usr/local/lib/python3.10/dist-packages (from matplotlib) (11.0.0)\n",
            "Requirement already satisfied: pyparsing>=2.3.1 in /usr/local/lib/python3.10/dist-packages (from matplotlib) (3.2.0)\n",
            "Requirement already satisfied: python-dateutil>=2.7 in /usr/local/lib/python3.10/dist-packages (from matplotlib) (2.8.2)\n",
            "Requirement already satisfied: six>=1.5 in /usr/local/lib/python3.10/dist-packages (from python-dateutil>=2.7->matplotlib) (1.16.0)\n"
          ]
        }
      ],
      "source": [
        "!pip install kagglehub\n",
        "!pip install pandas\n",
        "!pip install nltk\n",
        "!pip install scikit-learn\n",
        "!pip install transformers\n",
        "!pip install torch\n",
        "!pip install seaborn\n",
        "!pip install tqdm\n",
        "!pip install matplotlib"
      ]
    },
    {
      "cell_type": "code",
      "execution_count": null,
      "id": "initial_id",
      "metadata": {
        "colab": {
          "base_uri": "https://localhost:8080/"
        },
        "collapsed": true,
        "id": "initial_id",
        "outputId": "4085c039-6bc4-489d-fca6-42cb44a3155a"
      },
      "outputs": [
        {
          "output_type": "stream",
          "name": "stdout",
          "text": [
            "   S No.                                              Title  \\\n",
            "0      1  SpiceJet to issue 6.4 crore warrants to promoters   \n",
            "1      2                  MMTC Q2 net loss at Rs 10.4 crore   \n",
            "2      3  Mid-cap funds can deliver more, stay put: Experts   \n",
            "3      4             Mid caps now turn into market darlings   \n",
            "4      5  Market seeing patience, if not conviction: Pra...   \n",
            "\n",
            "                       Decisions  Words  \n",
            "0        {\"SpiceJet\": \"neutral\"}      8  \n",
            "1            {\"MMTC\": \"neutral\"}      8  \n",
            "2  {\"Mid-cap funds\": \"positive\"}      8  \n",
            "3       {\"Mid caps\": \"positive\"}      7  \n",
            "4          {\"Market\": \"neutral\"}      8  \n"
          ]
        }
      ],
      "source": [
        "import os\n",
        "import pandas as pd\n",
        "import kagglehub\n",
        "\n",
        "path = kagglehub.dataset_download(\"ankurzing/aspect-based-sentiment-analysis-for-financial-news\")\n",
        "file_path = os.path.join(path, \"SEntFiN-v1.1.csv\")\n",
        "\n",
        "df = pd.read_csv(file_path)\n",
        "print(df.head())"
      ]
    },
    {
      "cell_type": "code",
      "execution_count": null,
      "id": "f5a7c3ce5185cd11",
      "metadata": {
        "colab": {
          "base_uri": "https://localhost:8080/"
        },
        "id": "f5a7c3ce5185cd11",
        "outputId": "3390065d-5842-4ea4-acfe-d73af3651972"
      },
      "outputs": [
        {
          "output_type": "stream",
          "name": "stdout",
          "text": [
            "Conteggio per tipo di sentiment:\n",
            "Sentiment\n",
            "positive    4170\n",
            "neutral     3444\n",
            "negative    3139\n",
            "Name: count, dtype: int64\n"
          ]
        }
      ],
      "source": [
        "# Contare le occorrenze per classe\n",
        "# Classe neutral, Classe negative, Classe positive\n",
        "\n",
        "# Estrai i valori (positive, neutral, negative) dalla colonna Decisions\n",
        "# I valore positive, negative, neutral si estraggono da una colonna NLP che si chiama Sentiment\n",
        "df['Sentiment'] = df['Decisions'].apply(lambda x: eval(x).values()).apply(list).str[0]\n",
        "\n",
        "# Conta gli elementi per tipo\n",
        "counts = df['Sentiment'].value_counts()\n",
        "\n",
        "print(\"Conteggio per tipo di sentiment:\")\n",
        "print(counts)"
      ]
    },
    {
      "cell_type": "code",
      "execution_count": null,
      "id": "765eecde3d539e5f",
      "metadata": {
        "colab": {
          "base_uri": "https://localhost:8080/"
        },
        "id": "765eecde3d539e5f",
        "outputId": "721a25bb-6f83-4253-b895-33d0b76260d2"
      },
      "outputs": [
        {
          "output_type": "stream",
          "name": "stdout",
          "text": [
            "   S No.                                            Title  \\\n",
            "0      1          spicejet issue crore warrants promoters   \n",
            "1      2                         mmtc q net loss rs crore   \n",
            "2      3            midcap funds deliver stay put experts   \n",
            "3      4                    mid caps turn market darlings   \n",
            "4      5  market seeing patience conviction prakash diwan   \n",
            "\n",
            "                       Decisions  Words Sentiment  \n",
            "0        {\"SpiceJet\": \"neutral\"}      8   neutral  \n",
            "1            {\"MMTC\": \"neutral\"}      8   neutral  \n",
            "2  {\"Mid-cap funds\": \"positive\"}      8  positive  \n",
            "3       {\"Mid caps\": \"positive\"}      7  positive  \n",
            "4          {\"Market\": \"neutral\"}      8   neutral  \n"
          ]
        }
      ],
      "source": [
        "import re\n",
        "import nltk\n",
        "from nltk.corpus import stopwords\n",
        "\n",
        "import zipfile\n",
        "with zipfile.ZipFile(\"stopwords.zip\", \"r\") as zip_ref:\n",
        "    zip_ref.extractall(\"nltk_data/corpora\")  # Estrai nella directory \"nltk_data/corpora\"\n",
        "\n",
        "# Ottieni l'elenco delle stopwords in inglese\n",
        "import nltk\n",
        "nltk.data.path.append(\"./nltk_data\")  # Aggiungi il percorso personalizzato\n",
        "\n",
        "# Verifica che le stopwords siano disponibili\n",
        "from nltk.corpus import stopwords\n",
        "stop_words = set(stopwords.words(\"english\"))\n",
        "\n",
        "def clean_text(text):\n",
        "    # Converte il testo in minuscolo\n",
        "    text = text.lower()\n",
        "\n",
        "    # Rimuove link\n",
        "    text = re.sub(r\"http\\S+|www\\S+|https\\S+\", \"\", text, flags=re.MULTILINE)\n",
        "\n",
        "    # Rimuove caratteri speciali e punteggiatura\n",
        "    text = re.sub(r\"[^a-zA-Z\\s]\", \"\", text)\n",
        "\n",
        "    # Rimuove numeri\n",
        "    text = re.sub(r\"\\d+\", \"\", text)\n",
        "\n",
        "    # Rimuove spazi multipli\n",
        "    text = re.sub(r\"\\s+\", \" \", text).strip()\n",
        "\n",
        "    # Rimuove stopwords in inglese\n",
        "    words = text.split()  # Tokenizza il testo in parole\n",
        "    filtered_words = [word for word in words if word not in stop_words]\n",
        "    text = \" \".join(filtered_words)  # Ricompone il testo senza stopwords\n",
        "\n",
        "    return text\n",
        "\n",
        "# Crea una nuova colonna 'Title' con la versione di 'Title' senza stopwords\n",
        "df_cleaned = df.copy()  # Crea una copia del DataFrame originale\n",
        "df_cleaned[\"Title\"] = df_cleaned[\"Title\"].apply(clean_text)\n",
        "\n",
        "print(df_cleaned.head())\n"
      ]
    },
    {
      "cell_type": "code",
      "execution_count": null,
      "id": "154349377d14ce20",
      "metadata": {
        "colab": {
          "base_uri": "https://localhost:8080/"
        },
        "id": "154349377d14ce20",
        "outputId": "f761387e-10b9-4b4e-a486-ccd4ac2854df"
      },
      "outputs": [
        {
          "output_type": "stream",
          "name": "stderr",
          "text": [
            "/usr/local/lib/python3.10/dist-packages/huggingface_hub/utils/_auth.py:94: UserWarning: \n",
            "The secret `HF_TOKEN` does not exist in your Colab secrets.\n",
            "To authenticate with the Hugging Face Hub, create a token in your settings tab (https://huggingface.co/settings/tokens), set it as secret in your Google Colab and restart your session.\n",
            "You will be able to reuse this secret in all of your notebooks.\n",
            "Please note that authentication is recommended but still optional to access public models or datasets.\n",
            "  warnings.warn(\n"
          ]
        },
        {
          "output_type": "stream",
          "name": "stdout",
          "text": [
            "         Tokens  Token IDs  N.ro Row\n",
            "0         spice      17688         0\n",
            "1         ##jet      15759         0\n",
            "2         issue       3277         0\n",
            "3         crore      21665         0\n",
            "4       warrant      10943         0\n",
            "...         ...        ...       ...\n",
            "110750   shares       6661     10752\n",
            "110751     flat       4257     10752\n",
            "110752   energy       2943     10752\n",
            "110753     drag       8011     10752\n",
            "110754      ##s       2015     10752\n",
            "\n",
            "[110755 rows x 3 columns]\n"
          ]
        }
      ],
      "source": [
        "from transformers import BertTokenizer\n",
        "\n",
        "# Tokenizza il testo e prepara input IDs e attention masks\n",
        "tokenizer = BertTokenizer.from_pretrained(\"bert-base-uncased\")\n",
        "\n",
        "# Funzione per capire come vengono tokenizzati i titoli\n",
        "def tokenize_titles(df):\n",
        "    tokenized_dfs = []\n",
        "\n",
        "    for index, row in df.iterrows():\n",
        "        title = row[\"Title\"]  # Estrai il titolo\n",
        "        tokens = tokenizer.tokenize(title)  # Tokenizza il testo\n",
        "        token_ids = tokenizer.convert_tokens_to_ids(tokens)  # Ottieni gli ID dei token\n",
        "\n",
        "        # Crea un DataFrame per il titolo corrente\n",
        "        tokenized_df = pd.DataFrame({\n",
        "            \"Tokens\": tokens,\n",
        "            \"Token IDs\": token_ids\n",
        "        })\n",
        "\n",
        "        # Aggiungi il numero della riga di origine\n",
        "        tokenized_df[\"N.ro Row\"] = index\n",
        "\n",
        "        # Aggiungi alla lista dei DataFrame\n",
        "        tokenized_dfs.append(tokenized_df)\n",
        "\n",
        "    # Combina tutti i DataFrame in un'unica tabella\n",
        "    result_df = pd.concat(tokenized_dfs, ignore_index=True)\n",
        "    return result_df\n",
        "\n",
        "# Applica la funzione al tuo DataFrame\n",
        "tokenized_result = tokenize_titles(df_cleaned)\n",
        "\n",
        "# Mostra la tabella risultante\n",
        "print(tokenized_result)"
      ]
    },
    {
      "cell_type": "code",
      "execution_count": null,
      "id": "ab6e4d72cc955419",
      "metadata": {
        "colab": {
          "base_uri": "https://localhost:8080/"
        },
        "id": "ab6e4d72cc955419",
        "outputId": "45356a7a-6514-47f6-af26-ea3b5453d538"
      },
      "outputs": [
        {
          "output_type": "stream",
          "name": "stdout",
          "text": [
            "Lunghezza massima delle frasi: 27\n",
            "Lunghezza media delle frasi: 10.30\n"
          ]
        }
      ],
      "source": [
        "# Estrai i titoli dal DataFrame\n",
        "titles = df_cleaned['Title'].tolist()\n",
        "\n",
        "# Calcola la lunghezza dei token per ogni titolo per capire a quanto impostare il padding\n",
        "token_lengths = [len(tokenizer.tokenize(title)) for title in titles]\n",
        "\n",
        "# Lunghezza massima e media\n",
        "max_length = max(token_lengths)\n",
        "mean_length = sum(token_lengths) / len(token_lengths)\n",
        "\n",
        "print(f\"Lunghezza massima delle frasi: {max_length}\")\n",
        "print(f\"Lunghezza media delle frasi: {mean_length:.2f}\")"
      ]
    },
    {
      "cell_type": "code",
      "execution_count": null,
      "id": "214b75528e2caa63",
      "metadata": {
        "colab": {
          "base_uri": "https://localhost:8080/"
        },
        "id": "214b75528e2caa63",
        "outputId": "3167544f-1d95-4d47-fd61-7498d545320b"
      },
      "outputs": [
        {
          "output_type": "stream",
          "name": "stdout",
          "text": [
            "Conteggio per tipo di sentiment nel training set:\n",
            "Sentiment\n",
            "2    3336\n",
            "1    2755\n",
            "0    2511\n",
            "Name: count, dtype: int64\n",
            "\n",
            "Conteggio per tipo di sentiment nel test set:\n",
            "Sentiment\n",
            "2    834\n",
            "1    689\n",
            "0    628\n",
            "Name: count, dtype: int64\n"
          ]
        }
      ],
      "source": [
        "from sklearn.model_selection import train_test_split\n",
        "import torch\n",
        "\n",
        "def prepare_inputs(df, max_length):\n",
        "    input_ids = []\n",
        "    attention_masks = []\n",
        "    for title in df['Title']:\n",
        "        encoded = tokenizer.encode_plus(\n",
        "            title,\n",
        "            add_special_tokens=True,\n",
        "            max_length=max_length,\n",
        "            padding=\"max_length\",\n",
        "            truncation=True,\n",
        "            return_tensors=\"pt\"\n",
        "        )\n",
        "        input_ids.append(encoded['input_ids'])\n",
        "        attention_masks.append(encoded['attention_mask'])\n",
        "\n",
        "    input_ids = torch.cat(input_ids, dim=0)\n",
        "    attention_masks = torch.cat(attention_masks, dim=0)\n",
        "\n",
        "    return input_ids, attention_masks\n",
        "\n",
        "# 12 è un buon compromesso\n",
        "max_length = 12\n",
        "input_ids, attention_masks = prepare_inputs(df_cleaned, max_length)\n",
        "\n",
        "# Dividi in training e test\n",
        "y = df_cleaned['Sentiment']\n",
        "X_train_ids, X_test_ids, X_train_masks, X_test_masks, y_train, y_test = train_test_split(\n",
        "    input_ids, attention_masks, y, test_size=0.2, random_state=42, stratify=y\n",
        ")\n",
        "\n",
        "# Resetta gli indici per evitare disallineamenti\n",
        "y_train = y_train.reset_index(drop=True)\n",
        "y_test = y_test.reset_index(drop=True)\n",
        "\n",
        "# Mappa le etichette a numeri\n",
        "label_mapping = {\"negative\": 0, \"neutral\": 1, \"positive\": 2}\n",
        "y_train = y_train.map(label_mapping)\n",
        "y_test = y_test.map(label_mapping)\n",
        "\n",
        "# Conta i campioni per tipo nel training set\n",
        "train_counts = y_train.value_counts()\n",
        "\n",
        "# Conta i campioni per tipo nel test set\n",
        "test_counts = y_test.value_counts()\n",
        "\n",
        "# Stampa i risultati\n",
        "print(\"Conteggio per tipo di sentiment nel training set:\")\n",
        "print(train_counts)\n",
        "\n",
        "print(\"\\nConteggio per tipo di sentiment nel test set:\")\n",
        "print(test_counts)"
      ]
    },
    {
      "cell_type": "code",
      "execution_count": null,
      "id": "d8aed8d014f904a1",
      "metadata": {
        "id": "d8aed8d014f904a1"
      },
      "outputs": [],
      "source": [
        "from torch.utils.data import Dataset, DataLoader\n",
        "\n",
        "# Supponendo che il tuo DataFrame df_cleaned sia già stato processato\n",
        "# E hai input_ids, attention_masks, e y pronti\n",
        "\n",
        "class SentimentDataset(Dataset):\n",
        "    def __init__(self, input_ids, attention_masks, labels):\n",
        "        self.input_ids = input_ids\n",
        "        self.attention_masks = attention_masks\n",
        "        self.labels = torch.tensor(labels.to_numpy(), dtype=torch.long)  # Specifica il tipo long\n",
        "\n",
        "    def __len__(self):\n",
        "        return len(self.labels)\n",
        "\n",
        "    def __getitem__(self, idx):\n",
        "        return {\n",
        "            \"input_ids\": self.input_ids[idx],\n",
        "            \"attention_mask\": self.attention_masks[idx],\n",
        "            \"label\": self.labels[idx]\n",
        "        }\n",
        "\n",
        "# Dataset per training e test\n",
        "train_dataset = SentimentDataset(X_train_ids, X_train_masks, y_train)\n",
        "test_dataset = SentimentDataset(X_test_ids, X_test_masks, y_test)\n",
        "\n",
        "# Crea DataLoader\n",
        "batch_size = 16\n",
        "train_dataloader = DataLoader(train_dataset, batch_size=batch_size, shuffle=True)\n",
        "test_dataloader = DataLoader(test_dataset, batch_size=batch_size)"
      ]
    },
    {
      "cell_type": "code",
      "execution_count": null,
      "id": "f9ef6e610d0a1f9",
      "metadata": {
        "colab": {
          "base_uri": "https://localhost:8080/"
        },
        "id": "f9ef6e610d0a1f9",
        "outputId": "0f91430b-7b83-48cb-fdb7-2d82a542852a"
      },
      "outputs": [
        {
          "output_type": "stream",
          "name": "stderr",
          "text": [
            "Some weights of BertForSequenceClassification were not initialized from the model checkpoint at bert-base-uncased and are newly initialized: ['classifier.bias', 'classifier.weight']\n",
            "You should probably TRAIN this model on a down-stream task to be able to use it for predictions and inference.\n",
            "/usr/local/lib/python3.10/dist-packages/transformers/optimization.py:591: FutureWarning: This implementation of AdamW is deprecated and will be removed in a future version. Use the PyTorch implementation torch.optim.AdamW instead, or set `no_deprecation_warning=True` to disable this warning\n",
            "  warnings.warn(\n"
          ]
        }
      ],
      "source": [
        "import torch\n",
        "from transformers import BertForSequenceClassification, AdamW, get_scheduler\n",
        "\n",
        "# Inizializza il modello BERT per classificazione\n",
        "num_labels = 3  # Numero di classi (positive, neutral, negative)\n",
        "model = BertForSequenceClassification.from_pretrained(\"bert-base-uncased\", num_labels=num_labels)\n",
        "\n",
        "# Sposta il modello sulla GPU se disponibile\n",
        "device = torch.device(\"cuda\") if torch.cuda.is_available() else torch.device(\"cpu\")\n",
        "model.to(device)\n",
        "\n",
        "# Inizializza l'ottimizzatore e lo scheduler\n",
        "optimizer = AdamW(model.parameters(), lr=5e-5)\n",
        "num_epochs = 3\n",
        "num_training_steps = len(train_dataloader) * num_epochs\n",
        "lr_scheduler = get_scheduler(\n",
        "    \"linear\", optimizer=optimizer, num_warmup_steps=0, num_training_steps=num_training_steps\n",
        ")\n"
      ]
    },
    {
      "cell_type": "code",
      "execution_count": null,
      "id": "98d7d2b138a5574f",
      "metadata": {
        "colab": {
          "base_uri": "https://localhost:8080/"
        },
        "id": "98d7d2b138a5574f",
        "outputId": "d692a3ae-5234-42f8-f004-366bb98a04b4"
      },
      "outputs": [
        {
          "output_type": "stream",
          "name": "stderr",
          "text": [
            "\r  0%|          | 0/1614 [00:00<?, ?it/s]"
          ]
        },
        {
          "output_type": "stream",
          "name": "stdout",
          "text": [
            "Epoch 1/3\n"
          ]
        },
        {
          "output_type": "stream",
          "name": "stderr",
          "text": [
            " 34%|███▎      | 541/1614 [00:37<04:20,  4.12it/s]"
          ]
        },
        {
          "output_type": "stream",
          "name": "stdout",
          "text": [
            "Epoch 2/3\n"
          ]
        },
        {
          "output_type": "stream",
          "name": "stderr",
          "text": [
            " 67%|██████▋   | 1079/1614 [01:14<02:12,  4.04it/s]"
          ]
        },
        {
          "output_type": "stream",
          "name": "stdout",
          "text": [
            "Epoch 3/3\n"
          ]
        },
        {
          "output_type": "stream",
          "name": "stderr",
          "text": [
            "100%|██████████| 1614/1614 [01:57<00:00, 15.68it/s]"
          ]
        }
      ],
      "source": [
        "from tqdm import tqdm\n",
        "from sklearn.metrics import accuracy_score\n",
        "import matplotlib.pyplot as plt\n",
        "\n",
        "# Training loop con logging di train e validation scores\n",
        "train_accuracies = []\n",
        "val_accuracies = []\n",
        "\n",
        "model.train()\n",
        "progress_bar = tqdm(range(num_training_steps))\n",
        "\n",
        "for epoch in range(num_epochs):\n",
        "    print(f\"Epoch {epoch + 1}/{num_epochs}\")\n",
        "\n",
        "    # Variabili per calcolare l'accuratezza durante il training\n",
        "    train_predictions = []\n",
        "    train_labels = []\n",
        "\n",
        "    for batch in train_dataloader:\n",
        "        # Sposta i dati sulla GPU/CPU\n",
        "        input_ids = batch[\"input_ids\"].to(device)\n",
        "        attention_mask = batch[\"attention_mask\"].to(device)\n",
        "        labels = batch[\"label\"].to(device)\n",
        "\n",
        "        # Calcola gli output del modello\n",
        "        outputs = model(input_ids=input_ids, attention_mask=attention_mask, labels=labels)\n",
        "        loss = outputs.loss\n",
        "        logits = outputs.logits\n",
        "\n",
        "        # Predizioni del modello\n",
        "        predictions = torch.argmax(logits, dim=-1)\n",
        "        train_predictions.extend(predictions.cpu().numpy())\n",
        "        train_labels.extend(labels.cpu().numpy())\n",
        "\n",
        "        # Backpropagation\n",
        "        loss.backward()\n",
        "        optimizer.step()\n",
        "        lr_scheduler.step()\n",
        "        optimizer.zero_grad()\n",
        "        progress_bar.update(1)\n",
        "\n",
        "    # Calcola l'accuratezza sul training set\n",
        "    train_accuracy = accuracy_score(train_labels, train_predictions)\n",
        "    train_accuracies.append(train_accuracy)\n",
        "\n",
        "    # Valutazione sul validation set\n",
        "    model.eval()\n",
        "    val_predictions = []\n",
        "    val_labels = []\n",
        "    with torch.no_grad():\n",
        "        for batch in test_dataloader:\n",
        "            input_ids = batch[\"input_ids\"].to(device)\n",
        "            attention_mask = batch[\"attention_mask\"].to(device)\n",
        "            labels = batch[\"label\"].to(device)\n",
        "\n",
        "            # Predizioni del modello\n",
        "            outputs = model(input_ids=input_ids, attention_mask=attention_mask)\n",
        "            logits = outputs.logits\n",
        "            predictions = torch.argmax(logits, dim=-1)\n",
        "            val_predictions.extend(predictions.cpu().numpy())\n",
        "            val_labels.extend(labels.cpu().numpy())\n",
        "\n",
        "    # Calcola l'accuratezza sul validation set\n",
        "    val_accuracy = accuracy_score(val_labels, val_predictions)\n",
        "    val_accuracies.append(val_accuracy)"
      ]
    },
    {
      "cell_type": "code",
      "execution_count": null,
      "id": "d1173cfbcc01217e",
      "metadata": {
        "colab": {
          "base_uri": "https://localhost:8080/",
          "height": 581
        },
        "id": "d1173cfbcc01217e",
        "outputId": "69257376-3910-44c5-982f-d5c53d1b6672"
      },
      "outputs": [
        {
          "output_type": "display_data",
          "data": {
            "text/plain": [
              "<Figure size 1000x600 with 1 Axes>"
            ],
            "image/png": "[encoded data removed]"
          },
          "metadata": {}
        },
        {
          "output_type": "stream",
          "name": "stdout",
          "text": [
            "Test Accuracy: 0.7843\n"
          ]
        }
      ],
      "source": [
        "# Plot delle accuratezze\n",
        "plt.figure(figsize=(10, 6))\n",
        "plt.plot(range(1, num_epochs + 1), train_accuracies, label='Train Accuracy')\n",
        "plt.plot(range(1, num_epochs + 1), val_accuracies, label='Validation Accuracy')\n",
        "plt.xlabel('Epochs')\n",
        "plt.ylabel('Accuracy')\n",
        "plt.title('Train and Validation Accuracy per Epoch')\n",
        "plt.legend()\n",
        "plt.grid()\n",
        "plt.show()\n",
        "\n",
        "# Calcola l'accuratezza finale sul set di test\n",
        "test_accuracy = accuracy_score(val_labels, val_predictions)\n",
        "print(f\"Test Accuracy: {test_accuracy:.4f}\")"
      ]
    }
  ],
  "metadata": {
    "accelerator": "GPU",
    "colab": {
      "gpuType": "T4",
      "provenance": [],
      "include_colab_link": true
    },
    "kernelspec": {
      "display_name": "Python 3",
      "name": "python3"
    },
    "language_info": {
      "codemirror_mode": {
        "name": "ipython",
        "version": 2
      },
      "file_extension": ".py",
      "mimetype": "text/x-python",
      "name": "python",
      "nbconvert_exporter": "python",
      "pygments_lexer": "ipython2",
      "version": "2.7.6"
    }
  },
  "nbformat": 4,
  "nbformat_minor": 5
}